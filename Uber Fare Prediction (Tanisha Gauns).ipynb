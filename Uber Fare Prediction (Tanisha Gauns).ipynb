{
 "cells": [
  {
   "cell_type": "markdown",
   "id": "d42fb987",
   "metadata": {},
   "source": [
    "<div class=\"alert alert-block alert-info\">\n",
    "    \n",
    "__TANISHA GAUNS__\n",
    "    \n",
    "## Problem Definition\n",
    "\n",
    "Uber operates as the world’s largest ride-hailing service, facilitating millions of trips daily. One of the key challenges in Uber’s operations is accurately predicting fare amounts for its transactions. Fare estimation is crucial for both customers and drivers to ensure transparency, trust, and efficiency in the platform.\n",
    "\n",
    "The objective of this project is to develop a predictive model that accurately estimates the fare amount for Uber rides based on various trip-related factors,\n",
    "\n",
    "\n",
    "### The Dataset Contains The Following Fields:-\n",
    "\n",
    "__key__ - a unique identifier for each trip\n",
    "\n",
    "__fare_amount__ - the cost of each trip in usd\n",
    "\n",
    "__pickup_datetime__ - date and time when the meter was engaged\n",
    "\n",
    "__passenger_count__ - the number of passengers in the vehicle (driver entered value)\n",
    "\n",
    "__pickup_longitude__ - the longitude where the meter was engaged\n",
    "\n",
    "__pickup_latitude__ - the latitude where the meter was engaged\n",
    "\n",
    "__dropoff_longitude__ - the longitude where the meter was disengaged\n",
    "\n",
    "__dropoff_latitude__- the latitude where the meter was disengaged\n",
    "  \n",
    "</div>"
   ]
  },
  {
   "cell_type": "markdown",
   "id": "7612d3c3",
   "metadata": {},
   "source": [
    "<div class=\"alert alert-block alert-danger\">\n",
    "    \n",
    "In this project, I analyze the factors influencing Uber fare prices using a comprehensive dataset sourced from Kaggle. The dataset provides a range of variables, allowing for an in-depth exploration of their relationships with Uber fare prices. The data can be accessed at:-\n",
    "\n",
    "Link :https://www.kaggle.com/datasets/kushsheth/uber-ride-price-prediction\n",
    "    \n",
    "</div>"
   ]
  },
  {
   "cell_type": "code",
   "execution_count": 1,
   "id": "ce4ef519",
   "metadata": {},
   "outputs": [],
   "source": [
    "import pandas as pd\n",
    "import numpy as np\n",
    "import seaborn as sns\n",
    "import matplotlib.pyplot as plt\n",
    "from sklearn.model_selection import train_test_split, GridSearchCV\n",
    "from sklearn.preprocessing import StandardScaler\n",
    "from sklearn.ensemble import RandomForestRegressor\n",
    "from sklearn.linear_model import LinearRegression\n",
    "from sklearn.model_selection import train_test_split\n",
    "from sklearn.linear_model import LinearRegression, Ridge\n",
    "from sklearn.metrics import mean_squared_error\n",
    "import statsmodels.api as sm\n",
    "from sklearn.linear_model import LinearRegression\n",
    "from sklearn.metrics import r2_score\n",
    "from scipy.stats import stats,t\n",
    "from scipy.stats import linregress\n",
    "from sklearn.model_selection import train_test_split\n",
    "from sklearn.metrics import accuracy_score\n",
    "from sklearn.preprocessing import LabelEncoder\n",
    "from sklearn.datasets import make_regression\n",
    "from sklearn.linear_model import ElasticNet\n",
    "import math\n",
    "from sklearn.linear_model import Lasso"
   ]
  },
  {
   "cell_type": "markdown",
   "id": "bfcd0fed",
   "metadata": {},
   "source": [
    "## Data Collection :- "
   ]
  },
  {
   "cell_type": "code",
   "execution_count": 2,
   "id": "bbf0ebcf",
   "metadata": {
    "scrolled": false
   },
   "outputs": [
    {
     "data": {
      "text/html": [
       "<div>\n",
       "<style scoped>\n",
       "    .dataframe tbody tr th:only-of-type {\n",
       "        vertical-align: middle;\n",
       "    }\n",
       "\n",
       "    .dataframe tbody tr th {\n",
       "        vertical-align: top;\n",
       "    }\n",
       "\n",
       "    .dataframe thead th {\n",
       "        text-align: right;\n",
       "    }\n",
       "</style>\n",
       "<table border=\"1\" class=\"dataframe\">\n",
       "  <thead>\n",
       "    <tr style=\"text-align: right;\">\n",
       "      <th></th>\n",
       "      <th>Unnamed: 0</th>\n",
       "      <th>key</th>\n",
       "      <th>fare_amount</th>\n",
       "      <th>pickup_datetime</th>\n",
       "      <th>pickup_longitude</th>\n",
       "      <th>pickup_latitude</th>\n",
       "      <th>dropoff_longitude</th>\n",
       "      <th>dropoff_latitude</th>\n",
       "      <th>passenger_count</th>\n",
       "    </tr>\n",
       "  </thead>\n",
       "  <tbody>\n",
       "    <tr>\n",
       "      <th>0</th>\n",
       "      <td>24238194</td>\n",
       "      <td>52:06.0</td>\n",
       "      <td>7.50</td>\n",
       "      <td>2015-05-07 19:52:06 UTC</td>\n",
       "      <td>-73.999817</td>\n",
       "      <td>40.738354</td>\n",
       "      <td>-73.999512</td>\n",
       "      <td>40.723217</td>\n",
       "      <td>1</td>\n",
       "    </tr>\n",
       "    <tr>\n",
       "      <th>1</th>\n",
       "      <td>27835199</td>\n",
       "      <td>04:56.0</td>\n",
       "      <td>7.70</td>\n",
       "      <td>2009-07-17 20:04:56 UTC</td>\n",
       "      <td>-73.994355</td>\n",
       "      <td>40.728225</td>\n",
       "      <td>-73.994710</td>\n",
       "      <td>40.750325</td>\n",
       "      <td>1</td>\n",
       "    </tr>\n",
       "    <tr>\n",
       "      <th>2</th>\n",
       "      <td>44984355</td>\n",
       "      <td>45:00.0</td>\n",
       "      <td>12.90</td>\n",
       "      <td>2009-08-24 21:45:00 UTC</td>\n",
       "      <td>-74.005043</td>\n",
       "      <td>40.740770</td>\n",
       "      <td>-73.962565</td>\n",
       "      <td>40.772647</td>\n",
       "      <td>1</td>\n",
       "    </tr>\n",
       "    <tr>\n",
       "      <th>3</th>\n",
       "      <td>25894730</td>\n",
       "      <td>22:21.0</td>\n",
       "      <td>5.30</td>\n",
       "      <td>2009-06-26 08:22:21 UTC</td>\n",
       "      <td>-73.976124</td>\n",
       "      <td>40.790844</td>\n",
       "      <td>-73.965316</td>\n",
       "      <td>40.803349</td>\n",
       "      <td>3</td>\n",
       "    </tr>\n",
       "    <tr>\n",
       "      <th>4</th>\n",
       "      <td>17610152</td>\n",
       "      <td>47:00.0</td>\n",
       "      <td>16.00</td>\n",
       "      <td>2014-08-28 17:47:00 UTC</td>\n",
       "      <td>-73.925023</td>\n",
       "      <td>40.744085</td>\n",
       "      <td>-73.973082</td>\n",
       "      <td>40.761247</td>\n",
       "      <td>5</td>\n",
       "    </tr>\n",
       "    <tr>\n",
       "      <th>...</th>\n",
       "      <td>...</td>\n",
       "      <td>...</td>\n",
       "      <td>...</td>\n",
       "      <td>...</td>\n",
       "      <td>...</td>\n",
       "      <td>...</td>\n",
       "      <td>...</td>\n",
       "      <td>...</td>\n",
       "      <td>...</td>\n",
       "    </tr>\n",
       "    <tr>\n",
       "      <th>99995</th>\n",
       "      <td>15455010</td>\n",
       "      <td>18:13.0</td>\n",
       "      <td>5.50</td>\n",
       "      <td>2015-03-24 20:18:13 UTC</td>\n",
       "      <td>-73.976456</td>\n",
       "      <td>40.760448</td>\n",
       "      <td>-73.982216</td>\n",
       "      <td>40.753769</td>\n",
       "      <td>1</td>\n",
       "    </tr>\n",
       "    <tr>\n",
       "      <th>99996</th>\n",
       "      <td>14613171</td>\n",
       "      <td>15:41.0</td>\n",
       "      <td>7.30</td>\n",
       "      <td>2010-06-22 20:15:41 UTC</td>\n",
       "      <td>-73.988247</td>\n",
       "      <td>40.764201</td>\n",
       "      <td>-73.990118</td>\n",
       "      <td>40.750934</td>\n",
       "      <td>1</td>\n",
       "    </tr>\n",
       "    <tr>\n",
       "      <th>99997</th>\n",
       "      <td>41344515</td>\n",
       "      <td>17:00.0</td>\n",
       "      <td>8.90</td>\n",
       "      <td>2011-12-08 09:17:00 UTC</td>\n",
       "      <td>-73.989210</td>\n",
       "      <td>40.755990</td>\n",
       "      <td>-73.974647</td>\n",
       "      <td>40.763308</td>\n",
       "      <td>5</td>\n",
       "    </tr>\n",
       "    <tr>\n",
       "      <th>99998</th>\n",
       "      <td>6889564</td>\n",
       "      <td>43:55.0</td>\n",
       "      <td>10.50</td>\n",
       "      <td>2012-10-19 14:43:55 UTC</td>\n",
       "      <td>-73.985381</td>\n",
       "      <td>40.735717</td>\n",
       "      <td>-73.971863</td>\n",
       "      <td>40.753913</td>\n",
       "      <td>1</td>\n",
       "    </tr>\n",
       "    <tr>\n",
       "      <th>99999</th>\n",
       "      <td>30590356</td>\n",
       "      <td>55:00.0</td>\n",
       "      <td>25.07</td>\n",
       "      <td>2010-02-19 13:55:00 UTC</td>\n",
       "      <td>-73.978630</td>\n",
       "      <td>40.750930</td>\n",
       "      <td>-73.872850</td>\n",
       "      <td>40.774298</td>\n",
       "      <td>1</td>\n",
       "    </tr>\n",
       "  </tbody>\n",
       "</table>\n",
       "<p>100000 rows × 9 columns</p>\n",
       "</div>"
      ],
      "text/plain": [
       "       Unnamed: 0      key  fare_amount          pickup_datetime  \\\n",
       "0        24238194  52:06.0         7.50  2015-05-07 19:52:06 UTC   \n",
       "1        27835199  04:56.0         7.70  2009-07-17 20:04:56 UTC   \n",
       "2        44984355  45:00.0        12.90  2009-08-24 21:45:00 UTC   \n",
       "3        25894730  22:21.0         5.30  2009-06-26 08:22:21 UTC   \n",
       "4        17610152  47:00.0        16.00  2014-08-28 17:47:00 UTC   \n",
       "...           ...      ...          ...                      ...   \n",
       "99995    15455010  18:13.0         5.50  2015-03-24 20:18:13 UTC   \n",
       "99996    14613171  15:41.0         7.30  2010-06-22 20:15:41 UTC   \n",
       "99997    41344515  17:00.0         8.90  2011-12-08 09:17:00 UTC   \n",
       "99998     6889564  43:55.0        10.50  2012-10-19 14:43:55 UTC   \n",
       "99999    30590356  55:00.0        25.07  2010-02-19 13:55:00 UTC   \n",
       "\n",
       "       pickup_longitude  pickup_latitude  dropoff_longitude  dropoff_latitude  \\\n",
       "0            -73.999817        40.738354         -73.999512         40.723217   \n",
       "1            -73.994355        40.728225         -73.994710         40.750325   \n",
       "2            -74.005043        40.740770         -73.962565         40.772647   \n",
       "3            -73.976124        40.790844         -73.965316         40.803349   \n",
       "4            -73.925023        40.744085         -73.973082         40.761247   \n",
       "...                 ...              ...                ...               ...   \n",
       "99995        -73.976456        40.760448         -73.982216         40.753769   \n",
       "99996        -73.988247        40.764201         -73.990118         40.750934   \n",
       "99997        -73.989210        40.755990         -73.974647         40.763308   \n",
       "99998        -73.985381        40.735717         -73.971863         40.753913   \n",
       "99999        -73.978630        40.750930         -73.872850         40.774298   \n",
       "\n",
       "       passenger_count  \n",
       "0                    1  \n",
       "1                    1  \n",
       "2                    1  \n",
       "3                    3  \n",
       "4                    5  \n",
       "...                ...  \n",
       "99995                1  \n",
       "99996                1  \n",
       "99997                5  \n",
       "99998                1  \n",
       "99999                1  \n",
       "\n",
       "[100000 rows x 9 columns]"
      ]
     },
     "execution_count": 2,
     "metadata": {},
     "output_type": "execute_result"
    }
   ],
   "source": [
    "# Loading the dataset which is in CSV format\n",
    "df_uber = pd.read_csv('/Users/tanisha/Desktop/ Data-Science project/uber.csv').iloc[:100000]\n",
    "df_uber"
   ]
  },
  {
   "cell_type": "code",
   "execution_count": 3,
   "id": "0eabed8b",
   "metadata": {
    "scrolled": false
   },
   "outputs": [
    {
     "data": {
      "text/html": [
       "<div>\n",
       "<style scoped>\n",
       "    .dataframe tbody tr th:only-of-type {\n",
       "        vertical-align: middle;\n",
       "    }\n",
       "\n",
       "    .dataframe tbody tr th {\n",
       "        vertical-align: top;\n",
       "    }\n",
       "\n",
       "    .dataframe thead th {\n",
       "        text-align: right;\n",
       "    }\n",
       "</style>\n",
       "<table border=\"1\" class=\"dataframe\">\n",
       "  <thead>\n",
       "    <tr style=\"text-align: right;\">\n",
       "      <th></th>\n",
       "      <th>fare_amount</th>\n",
       "      <th>pickup_datetime</th>\n",
       "      <th>pickup_longitude</th>\n",
       "      <th>pickup_latitude</th>\n",
       "      <th>dropoff_longitude</th>\n",
       "      <th>dropoff_latitude</th>\n",
       "      <th>passenger_count</th>\n",
       "    </tr>\n",
       "  </thead>\n",
       "  <tbody>\n",
       "    <tr>\n",
       "      <th>0</th>\n",
       "      <td>7.5</td>\n",
       "      <td>2015-05-07 19:52:06 UTC</td>\n",
       "      <td>-73.999817</td>\n",
       "      <td>40.738354</td>\n",
       "      <td>-73.999512</td>\n",
       "      <td>40.723217</td>\n",
       "      <td>1</td>\n",
       "    </tr>\n",
       "    <tr>\n",
       "      <th>1</th>\n",
       "      <td>7.7</td>\n",
       "      <td>2009-07-17 20:04:56 UTC</td>\n",
       "      <td>-73.994355</td>\n",
       "      <td>40.728225</td>\n",
       "      <td>-73.994710</td>\n",
       "      <td>40.750325</td>\n",
       "      <td>1</td>\n",
       "    </tr>\n",
       "    <tr>\n",
       "      <th>2</th>\n",
       "      <td>12.9</td>\n",
       "      <td>2009-08-24 21:45:00 UTC</td>\n",
       "      <td>-74.005043</td>\n",
       "      <td>40.740770</td>\n",
       "      <td>-73.962565</td>\n",
       "      <td>40.772647</td>\n",
       "      <td>1</td>\n",
       "    </tr>\n",
       "    <tr>\n",
       "      <th>3</th>\n",
       "      <td>5.3</td>\n",
       "      <td>2009-06-26 08:22:21 UTC</td>\n",
       "      <td>-73.976124</td>\n",
       "      <td>40.790844</td>\n",
       "      <td>-73.965316</td>\n",
       "      <td>40.803349</td>\n",
       "      <td>3</td>\n",
       "    </tr>\n",
       "    <tr>\n",
       "      <th>4</th>\n",
       "      <td>16.0</td>\n",
       "      <td>2014-08-28 17:47:00 UTC</td>\n",
       "      <td>-73.925023</td>\n",
       "      <td>40.744085</td>\n",
       "      <td>-73.973082</td>\n",
       "      <td>40.761247</td>\n",
       "      <td>5</td>\n",
       "    </tr>\n",
       "  </tbody>\n",
       "</table>\n",
       "</div>"
      ],
      "text/plain": [
       "   fare_amount          pickup_datetime  pickup_longitude  pickup_latitude  \\\n",
       "0          7.5  2015-05-07 19:52:06 UTC        -73.999817        40.738354   \n",
       "1          7.7  2009-07-17 20:04:56 UTC        -73.994355        40.728225   \n",
       "2         12.9  2009-08-24 21:45:00 UTC        -74.005043        40.740770   \n",
       "3          5.3  2009-06-26 08:22:21 UTC        -73.976124        40.790844   \n",
       "4         16.0  2014-08-28 17:47:00 UTC        -73.925023        40.744085   \n",
       "\n",
       "   dropoff_longitude  dropoff_latitude  passenger_count  \n",
       "0         -73.999512         40.723217                1  \n",
       "1         -73.994710         40.750325                1  \n",
       "2         -73.962565         40.772647                1  \n",
       "3         -73.965316         40.803349                3  \n",
       "4         -73.973082         40.761247                5  "
      ]
     },
     "execution_count": 3,
     "metadata": {},
     "output_type": "execute_result"
    }
   ],
   "source": [
    "df_uber = df_uber.drop(columns=['Unnamed: 0', 'key'], errors='ignore')\n",
    "# Display the first few rows to verify\n",
    "df_uber.head()"
   ]
  },
  {
   "cell_type": "code",
   "execution_count": 4,
   "id": "59297100",
   "metadata": {},
   "outputs": [],
   "source": [
    "# Ensure all fare amounts are non-negative by converting any negative values to their absolute value\n",
    "df_uber['fare_amount'] = df_uber['fare_amount'].apply(lambda x: abs(x))"
   ]
  },
  {
   "cell_type": "code",
   "execution_count": 5,
   "id": "3df16907",
   "metadata": {},
   "outputs": [
    {
     "data": {
      "text/plain": [
       "0      7.5\n",
       "1      7.7\n",
       "2     12.9\n",
       "3      5.3\n",
       "4     16.0\n",
       "      ... \n",
       "95     9.5\n",
       "96     4.5\n",
       "97     3.3\n",
       "98    30.9\n",
       "99    26.9\n",
       "Name: fare_amount, Length: 100, dtype: float64"
      ]
     },
     "execution_count": 5,
     "metadata": {},
     "output_type": "execute_result"
    }
   ],
   "source": [
    "df_uber['fare_amount'].head(100)"
   ]
  },
  {
   "cell_type": "code",
   "execution_count": 6,
   "id": "083624f6",
   "metadata": {},
   "outputs": [
    {
     "data": {
      "text/plain": [
       "(100000, 7)"
      ]
     },
     "execution_count": 6,
     "metadata": {},
     "output_type": "execute_result"
    }
   ],
   "source": [
    "df_uber.shape"
   ]
  },
  {
   "cell_type": "markdown",
   "id": "d0f48ac9",
   "metadata": {},
   "source": [
    "<div class=\"alert alert-block alert-warning\">\n",
    "\n",
    "Here total 10,0000 rows of data and 7 columns\n",
    "\n",
    "Target Column is __fare_amount__\n",
    "    \n",
    "</div>"
   ]
  },
  {
   "cell_type": "markdown",
   "id": "4049e033",
   "metadata": {},
   "source": [
    "## Data Exploration :-"
   ]
  },
  {
   "cell_type": "code",
   "execution_count": 7,
   "id": "3a612ce0",
   "metadata": {
    "scrolled": false
   },
   "outputs": [
    {
     "name": "stdout",
     "output_type": "stream",
     "text": [
      "<class 'pandas.core.frame.DataFrame'>\n",
      "RangeIndex: 100000 entries, 0 to 99999\n",
      "Data columns (total 7 columns):\n",
      " #   Column             Non-Null Count   Dtype  \n",
      "---  ------             --------------   -----  \n",
      " 0   fare_amount        100000 non-null  float64\n",
      " 1   pickup_datetime    100000 non-null  object \n",
      " 2   pickup_longitude   100000 non-null  float64\n",
      " 3   pickup_latitude    100000 non-null  float64\n",
      " 4   dropoff_longitude  99999 non-null   float64\n",
      " 5   dropoff_latitude   99999 non-null   float64\n",
      " 6   passenger_count    100000 non-null  int64  \n",
      "dtypes: float64(5), int64(1), object(1)\n",
      "memory usage: 5.3+ MB\n"
     ]
    }
   ],
   "source": [
    "df_uber.info()"
   ]
  },
  {
   "cell_type": "markdown",
   "id": "1db48e06",
   "metadata": {},
   "source": [
    "<div class=\"alert alert-block alert-success\">\n",
    "Categorical Columns: pickup_datetime(although we will convert this into date-time)\n",
    "\n",
    "Numerical Columns: rest of them are numerical columns\n",
    "    \n",
    "</div> "
   ]
  },
  {
   "cell_type": "code",
   "execution_count": 8,
   "id": "9404ca47",
   "metadata": {
    "scrolled": true
   },
   "outputs": [
    {
     "data": {
      "text/plain": [
       "fare_amount          0\n",
       "pickup_datetime      0\n",
       "pickup_longitude     0\n",
       "pickup_latitude      0\n",
       "dropoff_longitude    1\n",
       "dropoff_latitude     1\n",
       "passenger_count      0\n",
       "dtype: int64"
      ]
     },
     "execution_count": 8,
     "metadata": {},
     "output_type": "execute_result"
    }
   ],
   "source": [
    "df_uber.isnull().sum()"
   ]
  },
  {
   "cell_type": "markdown",
   "id": "5ed3b2f2",
   "metadata": {},
   "source": [
    "#### Only dropoff_longitude and dropoff_latitude one missing values we will drop this row"
   ]
  },
  {
   "cell_type": "code",
   "execution_count": 9,
   "id": "eab5c4b2",
   "metadata": {},
   "outputs": [],
   "source": [
    "#drop columns with missing values \n",
    "df_uber.dropna(inplace=True)"
   ]
  },
  {
   "cell_type": "code",
   "execution_count": 10,
   "id": "9061f1c8",
   "metadata": {
    "scrolled": true
   },
   "outputs": [
    {
     "data": {
      "text/plain": [
       "fare_amount          0\n",
       "pickup_datetime      0\n",
       "pickup_longitude     0\n",
       "pickup_latitude      0\n",
       "dropoff_longitude    0\n",
       "dropoff_latitude     0\n",
       "passenger_count      0\n",
       "dtype: int64"
      ]
     },
     "execution_count": 10,
     "metadata": {},
     "output_type": "execute_result"
    }
   ],
   "source": [
    "df_uber.isnull().sum()"
   ]
  },
  {
   "cell_type": "code",
   "execution_count": 11,
   "id": "ef214467",
   "metadata": {
    "scrolled": false
   },
   "outputs": [
    {
     "name": "stdout",
     "output_type": "stream",
     "text": [
      "<class 'pandas.core.frame.DataFrame'>\n",
      "Int64Index: 99999 entries, 0 to 99999\n",
      "Data columns (total 7 columns):\n",
      " #   Column             Non-Null Count  Dtype  \n",
      "---  ------             --------------  -----  \n",
      " 0   fare_amount        99999 non-null  float64\n",
      " 1   pickup_datetime    99999 non-null  object \n",
      " 2   pickup_longitude   99999 non-null  float64\n",
      " 3   pickup_latitude    99999 non-null  float64\n",
      " 4   dropoff_longitude  99999 non-null  float64\n",
      " 5   dropoff_latitude   99999 non-null  float64\n",
      " 6   passenger_count    99999 non-null  int64  \n",
      "dtypes: float64(5), int64(1), object(1)\n",
      "memory usage: 6.1+ MB\n"
     ]
    }
   ],
   "source": [
    "df_uber.info()"
   ]
  },
  {
   "cell_type": "code",
   "execution_count": 12,
   "id": "1a7f555f",
   "metadata": {
    "scrolled": true
   },
   "outputs": [
    {
     "data": {
      "text/html": [
       "<div>\n",
       "<style scoped>\n",
       "    .dataframe tbody tr th:only-of-type {\n",
       "        vertical-align: middle;\n",
       "    }\n",
       "\n",
       "    .dataframe tbody tr th {\n",
       "        vertical-align: top;\n",
       "    }\n",
       "\n",
       "    .dataframe thead th {\n",
       "        text-align: right;\n",
       "    }\n",
       "</style>\n",
       "<table border=\"1\" class=\"dataframe\">\n",
       "  <thead>\n",
       "    <tr style=\"text-align: right;\">\n",
       "      <th></th>\n",
       "      <th>fare_amount</th>\n",
       "      <th>pickup_longitude</th>\n",
       "      <th>pickup_latitude</th>\n",
       "      <th>dropoff_longitude</th>\n",
       "      <th>dropoff_latitude</th>\n",
       "      <th>passenger_count</th>\n",
       "    </tr>\n",
       "  </thead>\n",
       "  <tbody>\n",
       "    <tr>\n",
       "      <th>count</th>\n",
       "      <td>99999.000000</td>\n",
       "      <td>99999.000000</td>\n",
       "      <td>99999.000000</td>\n",
       "      <td>99999.000000</td>\n",
       "      <td>99999.000000</td>\n",
       "      <td>99999.000000</td>\n",
       "    </tr>\n",
       "    <tr>\n",
       "      <th>mean</th>\n",
       "      <td>11.383314</td>\n",
       "      <td>-72.523097</td>\n",
       "      <td>39.951132</td>\n",
       "      <td>-72.544076</td>\n",
       "      <td>39.920702</td>\n",
       "      <td>1.677497</td>\n",
       "    </tr>\n",
       "    <tr>\n",
       "      <th>std</th>\n",
       "      <td>9.902770</td>\n",
       "      <td>11.614040</td>\n",
       "      <td>9.064455</td>\n",
       "      <td>15.348821</td>\n",
       "      <td>7.300712</td>\n",
       "      <td>1.298656</td>\n",
       "    </tr>\n",
       "    <tr>\n",
       "      <th>min</th>\n",
       "      <td>0.000000</td>\n",
       "      <td>-1340.648410</td>\n",
       "      <td>-74.015515</td>\n",
       "      <td>-3356.666300</td>\n",
       "      <td>-881.985513</td>\n",
       "      <td>0.000000</td>\n",
       "    </tr>\n",
       "    <tr>\n",
       "      <th>25%</th>\n",
       "      <td>6.000000</td>\n",
       "      <td>-73.992027</td>\n",
       "      <td>40.734832</td>\n",
       "      <td>-73.991414</td>\n",
       "      <td>40.733707</td>\n",
       "      <td>1.000000</td>\n",
       "    </tr>\n",
       "    <tr>\n",
       "      <th>50%</th>\n",
       "      <td>8.500000</td>\n",
       "      <td>-73.981810</td>\n",
       "      <td>40.752623</td>\n",
       "      <td>-73.980093</td>\n",
       "      <td>40.752957</td>\n",
       "      <td>1.000000</td>\n",
       "    </tr>\n",
       "    <tr>\n",
       "      <th>75%</th>\n",
       "      <td>12.500000</td>\n",
       "      <td>-73.967160</td>\n",
       "      <td>40.767150</td>\n",
       "      <td>-73.963776</td>\n",
       "      <td>40.768082</td>\n",
       "      <td>2.000000</td>\n",
       "    </tr>\n",
       "    <tr>\n",
       "      <th>max</th>\n",
       "      <td>350.000000</td>\n",
       "      <td>57.418457</td>\n",
       "      <td>1644.421482</td>\n",
       "      <td>1153.572603</td>\n",
       "      <td>872.697628</td>\n",
       "      <td>6.000000</td>\n",
       "    </tr>\n",
       "  </tbody>\n",
       "</table>\n",
       "</div>"
      ],
      "text/plain": [
       "        fare_amount  pickup_longitude  pickup_latitude  dropoff_longitude  \\\n",
       "count  99999.000000      99999.000000     99999.000000       99999.000000   \n",
       "mean      11.383314        -72.523097        39.951132         -72.544076   \n",
       "std        9.902770         11.614040         9.064455          15.348821   \n",
       "min        0.000000      -1340.648410       -74.015515       -3356.666300   \n",
       "25%        6.000000        -73.992027        40.734832         -73.991414   \n",
       "50%        8.500000        -73.981810        40.752623         -73.980093   \n",
       "75%       12.500000        -73.967160        40.767150         -73.963776   \n",
       "max      350.000000         57.418457      1644.421482        1153.572603   \n",
       "\n",
       "       dropoff_latitude  passenger_count  \n",
       "count      99999.000000     99999.000000  \n",
       "mean          39.920702         1.677497  \n",
       "std            7.300712         1.298656  \n",
       "min         -881.985513         0.000000  \n",
       "25%           40.733707         1.000000  \n",
       "50%           40.752957         1.000000  \n",
       "75%           40.768082         2.000000  \n",
       "max          872.697628         6.000000  "
      ]
     },
     "execution_count": 12,
     "metadata": {},
     "output_type": "execute_result"
    }
   ],
   "source": [
    "df_uber.describe()"
   ]
  },
  {
   "cell_type": "code",
   "execution_count": 13,
   "id": "e0d080cf",
   "metadata": {
    "scrolled": false
   },
   "outputs": [
    {
     "data": {
      "text/plain": [
       "<Axes: >"
      ]
     },
     "execution_count": 13,
     "metadata": {},
     "output_type": "execute_result"
    },
    {
     "data": {
      "image/png": "[encoded data removed]",
      "text/plain": [
       "<Figure size 640x480 with 1 Axes>"
      ]
     },
     "metadata": {},
     "output_type": "display_data"
    }
   ],
   "source": [
    "# detect outliers in 'fare_amount' column\n",
    "df_uber['fare_amount'].plot(kind='box')"
   ]
  },
  {
   "cell_type": "code",
   "execution_count": 14,
   "id": "d8e5ec51",
   "metadata": {},
   "outputs": [],
   "source": [
    "# Function to count the number of outliers in the specified column (fare_amount) using the IQR method\n",
    "# Outliers are defined as values below Q1 - 1.5*IQR or above Q3 + 1.5*IQR\n",
    "def count_outliers(df_uber, fare_amount):\n",
    "    Q1 = df_uber[fare_amount].quantile(0.25)\n",
    "    Q3 = df_uber[fare_amount].quantile(0.75)\n",
    "    IQR = Q3 - Q1\n",
    "    lower_bound = Q1 - 1.5 * IQR\n",
    "    upper_bound = Q3 + 1.5 * IQR\n",
    "    outliers = df_uber[(df_uber[fare_amount] < lower_bound) | (df_uber[fare_amount] > upper_bound)]\n",
    "    return len(outliers)"
   ]
  },
  {
   "cell_type": "code",
   "execution_count": 15,
   "id": "f5ee0e44",
   "metadata": {
    "scrolled": true
   },
   "outputs": [
    {
     "data": {
      "text/plain": [
       "8605"
      ]
     },
     "execution_count": 15,
     "metadata": {},
     "output_type": "execute_result"
    }
   ],
   "source": [
    "count_outliers(df_uber, 'fare_amount')"
   ]
  },
  {
   "cell_type": "code",
   "execution_count": 16,
   "id": "4b10ba41",
   "metadata": {},
   "outputs": [],
   "source": [
    "# Calculate Q1 (25th percentile) and Q3 (75th percentile) for 'fare_amount'\n",
    "Q1 = df_uber['fare_amount'].quantile(0.25)\n",
    "Q3 = df_uber['fare_amount'].quantile(0.75)\n",
    "\n",
    "# Calculate the IQR\n",
    "IQR = Q3 - Q1\n",
    "\n",
    "# Define the lower and upper bounds for outliers\n",
    "lower_bound = Q1 - 1.5 * IQR\n",
    "upper_bound = Q3 + 1.5 * IQR\n",
    "\n",
    "\n",
    "# Filter the DataFrame to exclude outliers in the 'fare_amount' column\n",
    "df_uber = df_uber[(df_uber['fare_amount'] >= lower_bound) & (df_uber['fare_amount'] <= upper_bound)]"
   ]
  },
  {
   "cell_type": "code",
   "execution_count": 17,
   "id": "a8ed1092",
   "metadata": {},
   "outputs": [
    {
     "data": {
      "text/plain": [
       "<Axes: >"
      ]
     },
     "execution_count": 17,
     "metadata": {},
     "output_type": "execute_result"
    },
    {
     "data": {
      "image/png": "[encoded data removed]",
      "text/plain": [
       "<Figure size 640x480 with 1 Axes>"
      ]
     },
     "metadata": {},
     "output_type": "display_data"
    }
   ],
   "source": [
    "df_uber['fare_amount'].plot(kind='box')"
   ]
  },
  {
   "cell_type": "code",
   "execution_count": 18,
   "id": "ad0e3f99",
   "metadata": {
    "scrolled": true
   },
   "outputs": [
    {
     "data": {
      "text/plain": [
       "1    63444\n",
       "2    13370\n",
       "5     6376\n",
       "3     4078\n",
       "4     1920\n",
       "6     1877\n",
       "0      329\n",
       "Name: passenger_count, dtype: int64"
      ]
     },
     "execution_count": 18,
     "metadata": {},
     "output_type": "execute_result"
    }
   ],
   "source": [
    "df_uber['passenger_count'].value_counts()"
   ]
  },
  {
   "cell_type": "code",
   "execution_count": 19,
   "id": "71f83c8d",
   "metadata": {},
   "outputs": [],
   "source": [
    "zero_passenger_rows = df_uber[df_uber['passenger_count'] == 0]"
   ]
  },
  {
   "cell_type": "code",
   "execution_count": 20,
   "id": "283dd0dc",
   "metadata": {},
   "outputs": [
    {
     "name": "stdout",
     "output_type": "stream",
     "text": [
      "Number of rides with 0 passengers: 329\n"
     ]
    }
   ],
   "source": [
    "# Display the count of such rows\n",
    "print(f\"Number of rides with 0 passengers: {len(zero_passenger_rows)}\")"
   ]
  },
  {
   "cell_type": "code",
   "execution_count": 21,
   "id": "ac19bced",
   "metadata": {
    "scrolled": false
   },
   "outputs": [
    {
     "name": "stdout",
     "output_type": "stream",
     "text": [
      "        fare_amount          pickup_datetime  pickup_longitude  \\\n",
      "count    329.000000                      329        329.000000   \n",
      "unique          NaN                      329               NaN   \n",
      "top             NaN  2011-08-05 07:03:08 UTC               NaN   \n",
      "freq            NaN                        1               NaN   \n",
      "mean       8.461094                      NaN        -71.732466   \n",
      "std        4.265282                      NaN         12.719847   \n",
      "min        2.500000                      NaN        -74.017300   \n",
      "25%        5.300000                      NaN        -73.993300   \n",
      "50%        7.300000                      NaN        -73.982100   \n",
      "75%       10.900000                      NaN        -73.968742   \n",
      "max       21.700000                      NaN          0.000000   \n",
      "\n",
      "        pickup_latitude  dropoff_longitude  dropoff_latitude  passenger_count  \n",
      "count        329.000000         329.000000        329.000000            329.0  \n",
      "unique              NaN                NaN               NaN              NaN  \n",
      "top                 NaN                NaN               NaN              NaN  \n",
      "freq                NaN                NaN               NaN              NaN  \n",
      "mean          39.514593         -72.403473         39.887648              0.0  \n",
      "std            7.006896          10.691592          5.890129              0.0  \n",
      "min            0.000000         -74.015700          0.000000              0.0  \n",
      "25%           40.736700         -73.990922         40.737500              0.0  \n",
      "50%           40.754120         -73.979562         40.754137              0.0  \n",
      "75%           40.767858         -73.966162         40.770600              0.0  \n",
      "max           40.824100           0.000000         40.843063              0.0  \n"
     ]
    }
   ],
   "source": [
    "# Check for patterns in other columns\n",
    "summary = zero_passenger_rows.describe(include='all')\n",
    "print(summary)"
   ]
  },
  {
   "cell_type": "markdown",
   "id": "be122632",
   "metadata": {},
   "source": [
    "<div class=\"alert alert-block alert-warning\">\n",
    "\n",
    "## Key Observations:\n",
    "### Passenger Count:\n",
    "The dataset consists of 329 entries where passenger_count is 0.\n",
    "Since all rows have passenger_count = 0, this could indicate incorrect or missing data, or these may be test cases, invalid rides, or system errors.\n",
    "\n",
    "__Fare Amount__:\n",
    "The average fare (mean) is \\\\$8.46, with a minimum of \\\\$2.50 and a maximum of \\\\$21.70.\n",
    "Despite having zero passengers, fares are still recorded, which suggests these rides were logged but may not have had actual passengers (e.g., test rides, canceled trips, or errors in logging passenger counts).\n",
    "\n",
    "\n",
    "__Timestamps__:\n",
    "The dataset contains unique timestamps (pickup_datetime), meaning these are distinct rides despite passenger_count = 0.\n",
    "\n",
    "Possible Explanations:\n",
    "Data Entry or System Errors: The passenger count might not have been logged correctly.\n",
    "Driver-only Trips: These could be cases where the taxi was in transit without a passenger (e.g., moving to pick up a ride).\n",
    "Canceled Rides or Test Data: These might be test entries in the system or canceled rides where fares were still recorded.\n",
    "\n",
    "</div>"
   ]
  },
  {
   "cell_type": "code",
   "execution_count": 22,
   "id": "187a8cb5",
   "metadata": {},
   "outputs": [
    {
     "name": "stdout",
     "output_type": "stream",
     "text": [
      "       fare_amount          pickup_datetime  pickup_longitude  \\\n",
      "0              7.5  2015-05-07 19:52:06 UTC        -73.999817   \n",
      "1              7.7  2009-07-17 20:04:56 UTC        -73.994355   \n",
      "2             12.9  2009-08-24 21:45:00 UTC        -74.005043   \n",
      "3              5.3  2009-06-26 08:22:21 UTC        -73.976124   \n",
      "4             16.0  2014-08-28 17:47:00 UTC        -73.925023   \n",
      "...            ...                      ...               ...   \n",
      "99994         11.7  2010-04-28 18:12:05 UTC        -73.963816   \n",
      "99995          5.5  2015-03-24 20:18:13 UTC        -73.976456   \n",
      "99996          7.3  2010-06-22 20:15:41 UTC        -73.988247   \n",
      "99997          8.9  2011-12-08 09:17:00 UTC        -73.989210   \n",
      "99998         10.5  2012-10-19 14:43:55 UTC        -73.985381   \n",
      "\n",
      "       pickup_latitude  dropoff_longitude  dropoff_latitude  passenger_count  \n",
      "0            40.738354         -73.999512         40.723217                1  \n",
      "1            40.728225         -73.994710         40.750325                1  \n",
      "2            40.740770         -73.962565         40.772647                1  \n",
      "3            40.790844         -73.965316         40.803349                3  \n",
      "4            40.744085         -73.973082         40.761247                5  \n",
      "...                ...                ...               ...              ...  \n",
      "99994        40.774063         -73.986280         40.748599                1  \n",
      "99995        40.760448         -73.982216         40.753769                1  \n",
      "99996        40.764201         -73.990118         40.750934                1  \n",
      "99997        40.755990         -73.974647         40.763308                5  \n",
      "99998        40.735717         -73.971863         40.753913                1  \n",
      "\n",
      "[91065 rows x 7 columns]\n"
     ]
    }
   ],
   "source": [
    "# Remove rows where passenger_count is 0\n",
    "df_uber = df_uber[df_uber['passenger_count'] != 0]\n",
    "\n",
    "# Display the cleaned DataFrame\n",
    "print(df_uber)"
   ]
  },
  {
   "cell_type": "markdown",
   "id": "bd77425a",
   "metadata": {},
   "source": [
    "## Feature Engineering\n"
   ]
  },
  {
   "cell_type": "code",
   "execution_count": 23,
   "id": "38649873",
   "metadata": {},
   "outputs": [
    {
     "name": "stdout",
     "output_type": "stream",
     "text": [
      "       fare_amount          pickup_datetime  pickup_longitude  \\\n",
      "0              7.5  2015-05-07 19:52:06 UTC        -73.999817   \n",
      "1              7.7  2009-07-17 20:04:56 UTC        -73.994355   \n",
      "2             12.9  2009-08-24 21:45:00 UTC        -74.005043   \n",
      "3              5.3  2009-06-26 08:22:21 UTC        -73.976124   \n",
      "4             16.0  2014-08-28 17:47:00 UTC        -73.925023   \n",
      "...            ...                      ...               ...   \n",
      "99994         11.7  2010-04-28 18:12:05 UTC        -73.963816   \n",
      "99995          5.5  2015-03-24 20:18:13 UTC        -73.976456   \n",
      "99996          7.3  2010-06-22 20:15:41 UTC        -73.988247   \n",
      "99997          8.9  2011-12-08 09:17:00 UTC        -73.989210   \n",
      "99998         10.5  2012-10-19 14:43:55 UTC        -73.985381   \n",
      "\n",
      "       pickup_latitude  dropoff_longitude  dropoff_latitude  passenger_count  \\\n",
      "0            40.738354         -73.999512         40.723217                1   \n",
      "1            40.728225         -73.994710         40.750325                1   \n",
      "2            40.740770         -73.962565         40.772647                1   \n",
      "3            40.790844         -73.965316         40.803349                3   \n",
      "4            40.744085         -73.973082         40.761247                5   \n",
      "...                ...                ...               ...              ...   \n",
      "99994        40.774063         -73.986280         40.748599                1   \n",
      "99995        40.760448         -73.982216         40.753769                1   \n",
      "99996        40.764201         -73.990118         40.750934                1   \n",
      "99997        40.755990         -73.974647         40.763308                5   \n",
      "99998        40.735717         -73.971863         40.753913                1   \n",
      "\n",
      "       passenger_count_1  passenger_count_2  passenger_count_3  \\\n",
      "0                      1                  0                  0   \n",
      "1                      1                  0                  0   \n",
      "2                      1                  0                  0   \n",
      "3                      0                  0                  1   \n",
      "4                      0                  0                  0   \n",
      "...                  ...                ...                ...   \n",
      "99994                  1                  0                  0   \n",
      "99995                  1                  0                  0   \n",
      "99996                  1                  0                  0   \n",
      "99997                  0                  0                  0   \n",
      "99998                  1                  0                  0   \n",
      "\n",
      "       passenger_count_4  passenger_count_5  passenger_count_6  \n",
      "0                      0                  0                  0  \n",
      "1                      0                  0                  0  \n",
      "2                      0                  0                  0  \n",
      "3                      0                  0                  0  \n",
      "4                      0                  1                  0  \n",
      "...                  ...                ...                ...  \n",
      "99994                  0                  0                  0  \n",
      "99995                  0                  0                  0  \n",
      "99996                  0                  0                  0  \n",
      "99997                  0                  1                  0  \n",
      "99998                  0                  0                  0  \n",
      "\n",
      "[91065 rows x 13 columns]\n"
     ]
    }
   ],
   "source": [
    "# Assuming df_uber is your existing DataFrame with the 'passenger_count' column\n",
    "# Create dummy variables for the 'passenger_count' column\n",
    "df_dummies = pd.get_dummies(df_uber['passenger_count'], prefix='passenger_count')\n",
    "\n",
    "# Add the dummy variables to the original DataFrame\n",
    "df_uber = pd.concat([df_uber, df_dummies], axis=1)\n",
    "\n",
    "# Show the updated DataFrame with the dummy variables\n",
    "print(df_uber)"
   ]
  },
  {
   "cell_type": "code",
   "execution_count": 24,
   "id": "34fe6608",
   "metadata": {
    "scrolled": true
   },
   "outputs": [
    {
     "data": {
      "text/plain": [
       "count    91065.000000\n",
       "mean         8.951879\n",
       "std          4.148665\n",
       "min          0.000000\n",
       "25%          5.700000\n",
       "50%          8.000000\n",
       "75%         11.000000\n",
       "max         22.200000\n",
       "Name: fare_amount, dtype: float64"
      ]
     },
     "execution_count": 24,
     "metadata": {},
     "output_type": "execute_result"
    }
   ],
   "source": [
    "df_uber.fare_amount.describe() "
   ]
  },
  {
   "cell_type": "markdown",
   "id": "274ef0df",
   "metadata": {},
   "source": [
    "<div class=\"alert alert-block alert-warning\">\n",
    "\n",
    "__count__ = 91,065\n",
    "This means there are 91,394 fare values in the dataset.\n",
    "\n",
    "__mean__ = 8.950112\n",
    "The average fare amount is \\\\$8.95.\n",
    "\n",
    "__Standard Deviation__ = 4.149171\n",
    "This measures the spread of fare amounts around the mean.\n",
    "A higher standard deviation suggests fares vary widely.\n",
    "\n",
    "__min__ = 0.000000\n",
    "The minimum fare recorded is \\\\$0.00, which could indicate: Data entry errors,Free rides ,Promotions or discounts, Canceled trips.\n",
    "\n",
    "__max__ = 22.200000\n",
    "The highest fare recorded is \\\\$22.20. This suggests that the dataset does not include long-distance or luxury rides.\n",
    "\n",
    "__Interpretation__:\n",
    "The average fare of \\\\$8.95 suggests that most rides in this dataset are relatively short or moderately priced.\n",
    "The minimum fare of \\\\$0.00 might be an error or could represent canceled rides, promotional discounts, or cases where the driver didn’t charge the passenger.\n",
    "The standard deviation (4.15) means that while the average fare is about $8.95, individual fares vary significantly around this average.\n",
    "The max fare of \\\\$22.20 is not extremely high, which may suggest:\n",
    "The dataset contains short trips only.\n",
    "It might be missing higher-fare rides such as long-distance airport trips.\n",
    "The dataset may have some filtering applied.\n",
    "\n",
    "25% (First Quartile, Q1):  25% of the fares are below \\\\$6.00.\n",
    "\n",
    "50% (Median, Q2): 8.50  The middle value when the fare amounts are sorted.\n",
    "\n",
    "75% (Third Quartile, Q3): 11.00  75% of the fares are below \\\\$11.00.\n",
    "\n",
    "</div>"
   ]
  },
  {
   "cell_type": "code",
   "execution_count": 25,
   "id": "3b02dc6e",
   "metadata": {},
   "outputs": [
    {
     "data": {
      "image/png": "[encoded data removed]",
      "text/plain": [
       "<Figure size 1000x400 with 1 Axes>"
      ]
     },
     "metadata": {},
     "output_type": "display_data"
    }
   ],
   "source": [
    "# Plot distribution of fare_amount\n",
    "plt.figure(figsize=(10,4))\n",
    "sns.histplot((df_uber['fare_amount']), bins=50, kde=True)\n",
    "plt.title('Distribution of Fare Amount')\n",
    "plt.xlabel('Fare Amount (USD)')\n",
    "plt.ylabel('Frequency-number of rides')\n",
    "plt.show()"
   ]
  },
  {
   "cell_type": "code",
   "execution_count": 26,
   "id": "fe3680f3",
   "metadata": {
    "scrolled": false
   },
   "outputs": [
    {
     "name": "stderr",
     "output_type": "stream",
     "text": [
      "/Users/tanisha/anaconda3/lib/python3.11/site-packages/pandas/core/arraylike.py:402: RuntimeWarning: divide by zero encountered in log\n",
      "  result = getattr(ufunc, method)(*inputs, **kwargs)\n"
     ]
    },
    {
     "data": {
      "image/png": "[encoded data removed]",
      "text/plain": [
       "<Figure size 1000x400 with 1 Axes>"
      ]
     },
     "metadata": {},
     "output_type": "display_data"
    }
   ],
   "source": [
    "# Plot distribution of fare_amount\n",
    "\n",
    "plt.figure(figsize=(10,4))\n",
    "sns.histplot(np.log(df_uber['fare_amount']), bins=50, kde=True)\n",
    "plt.title('Distribution of Fare Amount')\n",
    "plt.xlabel('Fare Amount (USD)')\n",
    "plt.ylabel('Frequency-number of rides')\n",
    "plt.show()"
   ]
  },
  {
   "cell_type": "code",
   "execution_count": 27,
   "id": "26576195",
   "metadata": {},
   "outputs": [],
   "source": [
    "# Converting the \"pickup_datetime\" column in the DataFrame df to a datetime format, then \n",
    "# extracting and creating new columns for the year, month, weekday, and hour from the \"pickup_datetime\" column.\n",
    "# for better visualization\n",
    "\n",
    "df_uber[\"pickup_datetime\"] = pd.to_datetime(df_uber[\"pickup_datetime\"])\n",
    "df_uber[\"year\"] = df_uber[\"pickup_datetime\"].dt.year\n",
    "df_uber[\"month\"] = df_uber[\"pickup_datetime\"].dt.month\n",
    "df_uber[\"weekday\"] = df_uber[\"pickup_datetime\"].dt.weekday\n",
    "df_uber[\"hour\"] = df_uber[\"pickup_datetime\"].dt.hour"
   ]
  },
  {
   "cell_type": "code",
   "execution_count": 28,
   "id": "bf3ff1af",
   "metadata": {
    "scrolled": false
   },
   "outputs": [
    {
     "data": {
      "text/html": [
       "<div>\n",
       "<style scoped>\n",
       "    .dataframe tbody tr th:only-of-type {\n",
       "        vertical-align: middle;\n",
       "    }\n",
       "\n",
       "    .dataframe tbody tr th {\n",
       "        vertical-align: top;\n",
       "    }\n",
       "\n",
       "    .dataframe thead th {\n",
       "        text-align: right;\n",
       "    }\n",
       "</style>\n",
       "<table border=\"1\" class=\"dataframe\">\n",
       "  <thead>\n",
       "    <tr style=\"text-align: right;\">\n",
       "      <th></th>\n",
       "      <th>fare_amount</th>\n",
       "      <th>pickup_datetime</th>\n",
       "      <th>pickup_longitude</th>\n",
       "      <th>pickup_latitude</th>\n",
       "      <th>dropoff_longitude</th>\n",
       "      <th>dropoff_latitude</th>\n",
       "      <th>passenger_count</th>\n",
       "      <th>passenger_count_1</th>\n",
       "      <th>passenger_count_2</th>\n",
       "      <th>passenger_count_3</th>\n",
       "      <th>passenger_count_4</th>\n",
       "      <th>passenger_count_5</th>\n",
       "      <th>passenger_count_6</th>\n",
       "      <th>year</th>\n",
       "      <th>month</th>\n",
       "      <th>weekday</th>\n",
       "      <th>hour</th>\n",
       "    </tr>\n",
       "  </thead>\n",
       "  <tbody>\n",
       "    <tr>\n",
       "      <th>0</th>\n",
       "      <td>7.5</td>\n",
       "      <td>2015-05-07 19:52:06+00:00</td>\n",
       "      <td>-73.999817</td>\n",
       "      <td>40.738354</td>\n",
       "      <td>-73.999512</td>\n",
       "      <td>40.723217</td>\n",
       "      <td>1</td>\n",
       "      <td>1</td>\n",
       "      <td>0</td>\n",
       "      <td>0</td>\n",
       "      <td>0</td>\n",
       "      <td>0</td>\n",
       "      <td>0</td>\n",
       "      <td>2015</td>\n",
       "      <td>5</td>\n",
       "      <td>3</td>\n",
       "      <td>19</td>\n",
       "    </tr>\n",
       "    <tr>\n",
       "      <th>1</th>\n",
       "      <td>7.7</td>\n",
       "      <td>2009-07-17 20:04:56+00:00</td>\n",
       "      <td>-73.994355</td>\n",
       "      <td>40.728225</td>\n",
       "      <td>-73.994710</td>\n",
       "      <td>40.750325</td>\n",
       "      <td>1</td>\n",
       "      <td>1</td>\n",
       "      <td>0</td>\n",
       "      <td>0</td>\n",
       "      <td>0</td>\n",
       "      <td>0</td>\n",
       "      <td>0</td>\n",
       "      <td>2009</td>\n",
       "      <td>7</td>\n",
       "      <td>4</td>\n",
       "      <td>20</td>\n",
       "    </tr>\n",
       "    <tr>\n",
       "      <th>2</th>\n",
       "      <td>12.9</td>\n",
       "      <td>2009-08-24 21:45:00+00:00</td>\n",
       "      <td>-74.005043</td>\n",
       "      <td>40.740770</td>\n",
       "      <td>-73.962565</td>\n",
       "      <td>40.772647</td>\n",
       "      <td>1</td>\n",
       "      <td>1</td>\n",
       "      <td>0</td>\n",
       "      <td>0</td>\n",
       "      <td>0</td>\n",
       "      <td>0</td>\n",
       "      <td>0</td>\n",
       "      <td>2009</td>\n",
       "      <td>8</td>\n",
       "      <td>0</td>\n",
       "      <td>21</td>\n",
       "    </tr>\n",
       "    <tr>\n",
       "      <th>3</th>\n",
       "      <td>5.3</td>\n",
       "      <td>2009-06-26 08:22:21+00:00</td>\n",
       "      <td>-73.976124</td>\n",
       "      <td>40.790844</td>\n",
       "      <td>-73.965316</td>\n",
       "      <td>40.803349</td>\n",
       "      <td>3</td>\n",
       "      <td>0</td>\n",
       "      <td>0</td>\n",
       "      <td>1</td>\n",
       "      <td>0</td>\n",
       "      <td>0</td>\n",
       "      <td>0</td>\n",
       "      <td>2009</td>\n",
       "      <td>6</td>\n",
       "      <td>4</td>\n",
       "      <td>8</td>\n",
       "    </tr>\n",
       "    <tr>\n",
       "      <th>4</th>\n",
       "      <td>16.0</td>\n",
       "      <td>2014-08-28 17:47:00+00:00</td>\n",
       "      <td>-73.925023</td>\n",
       "      <td>40.744085</td>\n",
       "      <td>-73.973082</td>\n",
       "      <td>40.761247</td>\n",
       "      <td>5</td>\n",
       "      <td>0</td>\n",
       "      <td>0</td>\n",
       "      <td>0</td>\n",
       "      <td>0</td>\n",
       "      <td>1</td>\n",
       "      <td>0</td>\n",
       "      <td>2014</td>\n",
       "      <td>8</td>\n",
       "      <td>3</td>\n",
       "      <td>17</td>\n",
       "    </tr>\n",
       "    <tr>\n",
       "      <th>...</th>\n",
       "      <td>...</td>\n",
       "      <td>...</td>\n",
       "      <td>...</td>\n",
       "      <td>...</td>\n",
       "      <td>...</td>\n",
       "      <td>...</td>\n",
       "      <td>...</td>\n",
       "      <td>...</td>\n",
       "      <td>...</td>\n",
       "      <td>...</td>\n",
       "      <td>...</td>\n",
       "      <td>...</td>\n",
       "      <td>...</td>\n",
       "      <td>...</td>\n",
       "      <td>...</td>\n",
       "      <td>...</td>\n",
       "      <td>...</td>\n",
       "    </tr>\n",
       "    <tr>\n",
       "      <th>99994</th>\n",
       "      <td>11.7</td>\n",
       "      <td>2010-04-28 18:12:05+00:00</td>\n",
       "      <td>-73.963816</td>\n",
       "      <td>40.774063</td>\n",
       "      <td>-73.986280</td>\n",
       "      <td>40.748599</td>\n",
       "      <td>1</td>\n",
       "      <td>1</td>\n",
       "      <td>0</td>\n",
       "      <td>0</td>\n",
       "      <td>0</td>\n",
       "      <td>0</td>\n",
       "      <td>0</td>\n",
       "      <td>2010</td>\n",
       "      <td>4</td>\n",
       "      <td>2</td>\n",
       "      <td>18</td>\n",
       "    </tr>\n",
       "    <tr>\n",
       "      <th>99995</th>\n",
       "      <td>5.5</td>\n",
       "      <td>2015-03-24 20:18:13+00:00</td>\n",
       "      <td>-73.976456</td>\n",
       "      <td>40.760448</td>\n",
       "      <td>-73.982216</td>\n",
       "      <td>40.753769</td>\n",
       "      <td>1</td>\n",
       "      <td>1</td>\n",
       "      <td>0</td>\n",
       "      <td>0</td>\n",
       "      <td>0</td>\n",
       "      <td>0</td>\n",
       "      <td>0</td>\n",
       "      <td>2015</td>\n",
       "      <td>3</td>\n",
       "      <td>1</td>\n",
       "      <td>20</td>\n",
       "    </tr>\n",
       "    <tr>\n",
       "      <th>99996</th>\n",
       "      <td>7.3</td>\n",
       "      <td>2010-06-22 20:15:41+00:00</td>\n",
       "      <td>-73.988247</td>\n",
       "      <td>40.764201</td>\n",
       "      <td>-73.990118</td>\n",
       "      <td>40.750934</td>\n",
       "      <td>1</td>\n",
       "      <td>1</td>\n",
       "      <td>0</td>\n",
       "      <td>0</td>\n",
       "      <td>0</td>\n",
       "      <td>0</td>\n",
       "      <td>0</td>\n",
       "      <td>2010</td>\n",
       "      <td>6</td>\n",
       "      <td>1</td>\n",
       "      <td>20</td>\n",
       "    </tr>\n",
       "    <tr>\n",
       "      <th>99997</th>\n",
       "      <td>8.9</td>\n",
       "      <td>2011-12-08 09:17:00+00:00</td>\n",
       "      <td>-73.989210</td>\n",
       "      <td>40.755990</td>\n",
       "      <td>-73.974647</td>\n",
       "      <td>40.763308</td>\n",
       "      <td>5</td>\n",
       "      <td>0</td>\n",
       "      <td>0</td>\n",
       "      <td>0</td>\n",
       "      <td>0</td>\n",
       "      <td>1</td>\n",
       "      <td>0</td>\n",
       "      <td>2011</td>\n",
       "      <td>12</td>\n",
       "      <td>3</td>\n",
       "      <td>9</td>\n",
       "    </tr>\n",
       "    <tr>\n",
       "      <th>99998</th>\n",
       "      <td>10.5</td>\n",
       "      <td>2012-10-19 14:43:55+00:00</td>\n",
       "      <td>-73.985381</td>\n",
       "      <td>40.735717</td>\n",
       "      <td>-73.971863</td>\n",
       "      <td>40.753913</td>\n",
       "      <td>1</td>\n",
       "      <td>1</td>\n",
       "      <td>0</td>\n",
       "      <td>0</td>\n",
       "      <td>0</td>\n",
       "      <td>0</td>\n",
       "      <td>0</td>\n",
       "      <td>2012</td>\n",
       "      <td>10</td>\n",
       "      <td>4</td>\n",
       "      <td>14</td>\n",
       "    </tr>\n",
       "  </tbody>\n",
       "</table>\n",
       "<p>91065 rows × 17 columns</p>\n",
       "</div>"
      ],
      "text/plain": [
       "       fare_amount           pickup_datetime  pickup_longitude  \\\n",
       "0              7.5 2015-05-07 19:52:06+00:00        -73.999817   \n",
       "1              7.7 2009-07-17 20:04:56+00:00        -73.994355   \n",
       "2             12.9 2009-08-24 21:45:00+00:00        -74.005043   \n",
       "3              5.3 2009-06-26 08:22:21+00:00        -73.976124   \n",
       "4             16.0 2014-08-28 17:47:00+00:00        -73.925023   \n",
       "...            ...                       ...               ...   \n",
       "99994         11.7 2010-04-28 18:12:05+00:00        -73.963816   \n",
       "99995          5.5 2015-03-24 20:18:13+00:00        -73.976456   \n",
       "99996          7.3 2010-06-22 20:15:41+00:00        -73.988247   \n",
       "99997          8.9 2011-12-08 09:17:00+00:00        -73.989210   \n",
       "99998         10.5 2012-10-19 14:43:55+00:00        -73.985381   \n",
       "\n",
       "       pickup_latitude  dropoff_longitude  dropoff_latitude  passenger_count  \\\n",
       "0            40.738354         -73.999512         40.723217                1   \n",
       "1            40.728225         -73.994710         40.750325                1   \n",
       "2            40.740770         -73.962565         40.772647                1   \n",
       "3            40.790844         -73.965316         40.803349                3   \n",
       "4            40.744085         -73.973082         40.761247                5   \n",
       "...                ...                ...               ...              ...   \n",
       "99994        40.774063         -73.986280         40.748599                1   \n",
       "99995        40.760448         -73.982216         40.753769                1   \n",
       "99996        40.764201         -73.990118         40.750934                1   \n",
       "99997        40.755990         -73.974647         40.763308                5   \n",
       "99998        40.735717         -73.971863         40.753913                1   \n",
       "\n",
       "       passenger_count_1  passenger_count_2  passenger_count_3  \\\n",
       "0                      1                  0                  0   \n",
       "1                      1                  0                  0   \n",
       "2                      1                  0                  0   \n",
       "3                      0                  0                  1   \n",
       "4                      0                  0                  0   \n",
       "...                  ...                ...                ...   \n",
       "99994                  1                  0                  0   \n",
       "99995                  1                  0                  0   \n",
       "99996                  1                  0                  0   \n",
       "99997                  0                  0                  0   \n",
       "99998                  1                  0                  0   \n",
       "\n",
       "       passenger_count_4  passenger_count_5  passenger_count_6  year  month  \\\n",
       "0                      0                  0                  0  2015      5   \n",
       "1                      0                  0                  0  2009      7   \n",
       "2                      0                  0                  0  2009      8   \n",
       "3                      0                  0                  0  2009      6   \n",
       "4                      0                  1                  0  2014      8   \n",
       "...                  ...                ...                ...   ...    ...   \n",
       "99994                  0                  0                  0  2010      4   \n",
       "99995                  0                  0                  0  2015      3   \n",
       "99996                  0                  0                  0  2010      6   \n",
       "99997                  0                  1                  0  2011     12   \n",
       "99998                  0                  0                  0  2012     10   \n",
       "\n",
       "       weekday  hour  \n",
       "0            3    19  \n",
       "1            4    20  \n",
       "2            0    21  \n",
       "3            4     8  \n",
       "4            3    17  \n",
       "...        ...   ...  \n",
       "99994        2    18  \n",
       "99995        1    20  \n",
       "99996        1    20  \n",
       "99997        3     9  \n",
       "99998        4    14  \n",
       "\n",
       "[91065 rows x 17 columns]"
      ]
     },
     "execution_count": 28,
     "metadata": {},
     "output_type": "execute_result"
    }
   ],
   "source": [
    "df_uber"
   ]
  },
  {
   "cell_type": "code",
   "execution_count": 29,
   "id": "9a81c8dd",
   "metadata": {
    "scrolled": false
   },
   "outputs": [
    {
     "name": "stdout",
     "output_type": "stream",
     "text": [
      "       fare_amount           pickup_datetime  pickup_longitude  \\\n",
      "0              7.5 2015-05-07 19:52:06+00:00        -73.999817   \n",
      "1              7.7 2009-07-17 20:04:56+00:00        -73.994355   \n",
      "2             12.9 2009-08-24 21:45:00+00:00        -74.005043   \n",
      "3              5.3 2009-06-26 08:22:21+00:00        -73.976124   \n",
      "4             16.0 2014-08-28 17:47:00+00:00        -73.925023   \n",
      "...            ...                       ...               ...   \n",
      "99994         11.7 2010-04-28 18:12:05+00:00        -73.963816   \n",
      "99995          5.5 2015-03-24 20:18:13+00:00        -73.976456   \n",
      "99996          7.3 2010-06-22 20:15:41+00:00        -73.988247   \n",
      "99997          8.9 2011-12-08 09:17:00+00:00        -73.989210   \n",
      "99998         10.5 2012-10-19 14:43:55+00:00        -73.985381   \n",
      "\n",
      "       pickup_latitude  dropoff_longitude  dropoff_latitude  passenger_count  \\\n",
      "0            40.738354         -73.999512         40.723217                1   \n",
      "1            40.728225         -73.994710         40.750325                1   \n",
      "2            40.740770         -73.962565         40.772647                1   \n",
      "3            40.790844         -73.965316         40.803349                3   \n",
      "4            40.744085         -73.973082         40.761247                5   \n",
      "...                ...                ...               ...              ...   \n",
      "99994        40.774063         -73.986280         40.748599                1   \n",
      "99995        40.760448         -73.982216         40.753769                1   \n",
      "99996        40.764201         -73.990118         40.750934                1   \n",
      "99997        40.755990         -73.974647         40.763308                5   \n",
      "99998        40.735717         -73.971863         40.753913                1   \n",
      "\n",
      "       passenger_count_1  passenger_count_2  passenger_count_3  \\\n",
      "0                      1                  0                  0   \n",
      "1                      1                  0                  0   \n",
      "2                      1                  0                  0   \n",
      "3                      0                  0                  1   \n",
      "4                      0                  0                  0   \n",
      "...                  ...                ...                ...   \n",
      "99994                  1                  0                  0   \n",
      "99995                  1                  0                  0   \n",
      "99996                  1                  0                  0   \n",
      "99997                  0                  0                  0   \n",
      "99998                  1                  0                  0   \n",
      "\n",
      "       passenger_count_4  passenger_count_5  passenger_count_6  year  month  \\\n",
      "0                      0                  0                  0  2015      5   \n",
      "1                      0                  0                  0  2009      7   \n",
      "2                      0                  0                  0  2009      8   \n",
      "3                      0                  0                  0  2009      6   \n",
      "4                      0                  1                  0  2014      8   \n",
      "...                  ...                ...                ...   ...    ...   \n",
      "99994                  0                  0                  0  2010      4   \n",
      "99995                  0                  0                  0  2015      3   \n",
      "99996                  0                  0                  0  2010      6   \n",
      "99997                  0                  1                  0  2011     12   \n",
      "99998                  0                  0                  0  2012     10   \n",
      "\n",
      "       weekday  hour  distance  \n",
      "0            3    19  0.015140  \n",
      "1            4    20  0.022103  \n",
      "2            0    21  0.053109  \n",
      "3            4     8  0.016528  \n",
      "4            3    17  0.051031  \n",
      "...        ...   ...       ...  \n",
      "99994        2    18  0.033957  \n",
      "99995        1    20  0.008820  \n",
      "99996        1    20  0.013398  \n",
      "99997        3     9  0.016298  \n",
      "99998        4    14  0.022668  \n",
      "\n",
      "[91065 rows x 18 columns]\n"
     ]
    }
   ],
   "source": [
    "# Euclidean distance formula\n",
    "def euclidean_distance(x1, y1, x2, y2):\n",
    "    return math.sqrt((x2 - x1)**2 + (y2 - y1)**2)\n",
    "\n",
    "# Assuming df_uber is your DataFrame\n",
    "df_uber['distance'] = df_uber.apply(lambda row: euclidean_distance(row['pickup_longitude'], row['pickup_latitude'], row['dropoff_longitude'], row['dropoff_latitude']), axis=1)\n",
    "\n",
    "# Show the updated DataFrame with the calculated distance\n",
    "print(df_uber)"
   ]
  },
  {
   "cell_type": "code",
   "execution_count": 30,
   "id": "755d7479",
   "metadata": {
    "scrolled": true
   },
   "outputs": [
    {
     "data": {
      "text/html": [
       "<div>\n",
       "<style scoped>\n",
       "    .dataframe tbody tr th:only-of-type {\n",
       "        vertical-align: middle;\n",
       "    }\n",
       "\n",
       "    .dataframe tbody tr th {\n",
       "        vertical-align: top;\n",
       "    }\n",
       "\n",
       "    .dataframe thead th {\n",
       "        text-align: right;\n",
       "    }\n",
       "</style>\n",
       "<table border=\"1\" class=\"dataframe\">\n",
       "  <thead>\n",
       "    <tr style=\"text-align: right;\">\n",
       "      <th></th>\n",
       "      <th>fare_amount</th>\n",
       "      <th>pickup_longitude</th>\n",
       "      <th>pickup_latitude</th>\n",
       "      <th>dropoff_longitude</th>\n",
       "      <th>dropoff_latitude</th>\n",
       "      <th>passenger_count</th>\n",
       "      <th>passenger_count_1</th>\n",
       "      <th>passenger_count_2</th>\n",
       "      <th>passenger_count_3</th>\n",
       "      <th>passenger_count_4</th>\n",
       "      <th>passenger_count_5</th>\n",
       "      <th>passenger_count_6</th>\n",
       "      <th>year</th>\n",
       "      <th>month</th>\n",
       "      <th>weekday</th>\n",
       "      <th>hour</th>\n",
       "      <th>distance</th>\n",
       "    </tr>\n",
       "  </thead>\n",
       "  <tbody>\n",
       "    <tr>\n",
       "      <th>count</th>\n",
       "      <td>91065.000000</td>\n",
       "      <td>91065.000000</td>\n",
       "      <td>91065.000000</td>\n",
       "      <td>91065.000000</td>\n",
       "      <td>91065.000000</td>\n",
       "      <td>91065.000000</td>\n",
       "      <td>91065.000000</td>\n",
       "      <td>91065.000000</td>\n",
       "      <td>91065.000000</td>\n",
       "      <td>91065.000000</td>\n",
       "      <td>91065.000000</td>\n",
       "      <td>91065.000000</td>\n",
       "      <td>91065.000000</td>\n",
       "      <td>91065.000000</td>\n",
       "      <td>91065.000000</td>\n",
       "      <td>91065.000000</td>\n",
       "      <td>91065.000000</td>\n",
       "    </tr>\n",
       "    <tr>\n",
       "      <th>mean</th>\n",
       "      <td>8.951879</td>\n",
       "      <td>-72.561845</td>\n",
       "      <td>39.979921</td>\n",
       "      <td>-72.586623</td>\n",
       "      <td>39.944677</td>\n",
       "      <td>1.682754</td>\n",
       "      <td>0.696689</td>\n",
       "      <td>0.146818</td>\n",
       "      <td>0.044781</td>\n",
       "      <td>0.021084</td>\n",
       "      <td>0.070016</td>\n",
       "      <td>0.020612</td>\n",
       "      <td>2011.709954</td>\n",
       "      <td>6.251688</td>\n",
       "      <td>3.054401</td>\n",
       "      <td>13.517575</td>\n",
       "      <td>0.251123</td>\n",
       "    </tr>\n",
       "    <tr>\n",
       "      <th>std</th>\n",
       "      <td>4.148665</td>\n",
       "      <td>11.380355</td>\n",
       "      <td>9.223748</td>\n",
       "      <td>15.660616</td>\n",
       "      <td>7.311114</td>\n",
       "      <td>1.298117</td>\n",
       "      <td>0.459691</td>\n",
       "      <td>0.353927</td>\n",
       "      <td>0.206824</td>\n",
       "      <td>0.143665</td>\n",
       "      <td>0.255175</td>\n",
       "      <td>0.142081</td>\n",
       "      <td>1.858828</td>\n",
       "      <td>3.442046</td>\n",
       "      <td>1.945376</td>\n",
       "      <td>6.519531</td>\n",
       "      <td>11.894703</td>\n",
       "    </tr>\n",
       "    <tr>\n",
       "      <th>min</th>\n",
       "      <td>0.000000</td>\n",
       "      <td>-1340.648410</td>\n",
       "      <td>-74.009697</td>\n",
       "      <td>-3356.666300</td>\n",
       "      <td>-881.985513</td>\n",
       "      <td>1.000000</td>\n",
       "      <td>0.000000</td>\n",
       "      <td>0.000000</td>\n",
       "      <td>0.000000</td>\n",
       "      <td>0.000000</td>\n",
       "      <td>0.000000</td>\n",
       "      <td>0.000000</td>\n",
       "      <td>2009.000000</td>\n",
       "      <td>1.000000</td>\n",
       "      <td>0.000000</td>\n",
       "      <td>0.000000</td>\n",
       "      <td>0.000000</td>\n",
       "    </tr>\n",
       "    <tr>\n",
       "      <th>25%</th>\n",
       "      <td>5.700000</td>\n",
       "      <td>-73.992332</td>\n",
       "      <td>40.735735</td>\n",
       "      <td>-73.991663</td>\n",
       "      <td>40.735302</td>\n",
       "      <td>1.000000</td>\n",
       "      <td>0.000000</td>\n",
       "      <td>0.000000</td>\n",
       "      <td>0.000000</td>\n",
       "      <td>0.000000</td>\n",
       "      <td>0.000000</td>\n",
       "      <td>0.000000</td>\n",
       "      <td>2010.000000</td>\n",
       "      <td>3.000000</td>\n",
       "      <td>1.000000</td>\n",
       "      <td>9.000000</td>\n",
       "      <td>0.011902</td>\n",
       "    </tr>\n",
       "    <tr>\n",
       "      <th>50%</th>\n",
       "      <td>8.000000</td>\n",
       "      <td>-73.982250</td>\n",
       "      <td>40.752576</td>\n",
       "      <td>-73.980862</td>\n",
       "      <td>40.753152</td>\n",
       "      <td>1.000000</td>\n",
       "      <td>1.000000</td>\n",
       "      <td>0.000000</td>\n",
       "      <td>0.000000</td>\n",
       "      <td>0.000000</td>\n",
       "      <td>0.000000</td>\n",
       "      <td>0.000000</td>\n",
       "      <td>2012.000000</td>\n",
       "      <td>6.000000</td>\n",
       "      <td>3.000000</td>\n",
       "      <td>14.000000</td>\n",
       "      <td>0.019875</td>\n",
       "    </tr>\n",
       "    <tr>\n",
       "      <th>75%</th>\n",
       "      <td>11.000000</td>\n",
       "      <td>-73.969096</td>\n",
       "      <td>40.766502</td>\n",
       "      <td>-73.966735</td>\n",
       "      <td>40.767487</td>\n",
       "      <td>2.000000</td>\n",
       "      <td>1.000000</td>\n",
       "      <td>0.000000</td>\n",
       "      <td>0.000000</td>\n",
       "      <td>0.000000</td>\n",
       "      <td>0.000000</td>\n",
       "      <td>0.000000</td>\n",
       "      <td>2013.000000</td>\n",
       "      <td>9.000000</td>\n",
       "      <td>5.000000</td>\n",
       "      <td>19.000000</td>\n",
       "      <td>0.032627</td>\n",
       "    </tr>\n",
       "    <tr>\n",
       "      <th>max</th>\n",
       "      <td>22.200000</td>\n",
       "      <td>57.418457</td>\n",
       "      <td>1644.421482</td>\n",
       "      <td>1153.572603</td>\n",
       "      <td>872.697628</td>\n",
       "      <td>6.000000</td>\n",
       "      <td>1.000000</td>\n",
       "      <td>1.000000</td>\n",
       "      <td>1.000000</td>\n",
       "      <td>1.000000</td>\n",
       "      <td>1.000000</td>\n",
       "      <td>1.000000</td>\n",
       "      <td>2015.000000</td>\n",
       "      <td>12.000000</td>\n",
       "      <td>6.000000</td>\n",
       "      <td>23.000000</td>\n",
       "      <td>2434.714983</td>\n",
       "    </tr>\n",
       "  </tbody>\n",
       "</table>\n",
       "</div>"
      ],
      "text/plain": [
       "        fare_amount  pickup_longitude  pickup_latitude  dropoff_longitude  \\\n",
       "count  91065.000000      91065.000000     91065.000000       91065.000000   \n",
       "mean       8.951879        -72.561845        39.979921         -72.586623   \n",
       "std        4.148665         11.380355         9.223748          15.660616   \n",
       "min        0.000000      -1340.648410       -74.009697       -3356.666300   \n",
       "25%        5.700000        -73.992332        40.735735         -73.991663   \n",
       "50%        8.000000        -73.982250        40.752576         -73.980862   \n",
       "75%       11.000000        -73.969096        40.766502         -73.966735   \n",
       "max       22.200000         57.418457      1644.421482        1153.572603   \n",
       "\n",
       "       dropoff_latitude  passenger_count  passenger_count_1  \\\n",
       "count      91065.000000     91065.000000       91065.000000   \n",
       "mean          39.944677         1.682754           0.696689   \n",
       "std            7.311114         1.298117           0.459691   \n",
       "min         -881.985513         1.000000           0.000000   \n",
       "25%           40.735302         1.000000           0.000000   \n",
       "50%           40.753152         1.000000           1.000000   \n",
       "75%           40.767487         2.000000           1.000000   \n",
       "max          872.697628         6.000000           1.000000   \n",
       "\n",
       "       passenger_count_2  passenger_count_3  passenger_count_4  \\\n",
       "count       91065.000000       91065.000000       91065.000000   \n",
       "mean            0.146818           0.044781           0.021084   \n",
       "std             0.353927           0.206824           0.143665   \n",
       "min             0.000000           0.000000           0.000000   \n",
       "25%             0.000000           0.000000           0.000000   \n",
       "50%             0.000000           0.000000           0.000000   \n",
       "75%             0.000000           0.000000           0.000000   \n",
       "max             1.000000           1.000000           1.000000   \n",
       "\n",
       "       passenger_count_5  passenger_count_6          year         month  \\\n",
       "count       91065.000000       91065.000000  91065.000000  91065.000000   \n",
       "mean            0.070016           0.020612   2011.709954      6.251688   \n",
       "std             0.255175           0.142081      1.858828      3.442046   \n",
       "min             0.000000           0.000000   2009.000000      1.000000   \n",
       "25%             0.000000           0.000000   2010.000000      3.000000   \n",
       "50%             0.000000           0.000000   2012.000000      6.000000   \n",
       "75%             0.000000           0.000000   2013.000000      9.000000   \n",
       "max             1.000000           1.000000   2015.000000     12.000000   \n",
       "\n",
       "            weekday          hour      distance  \n",
       "count  91065.000000  91065.000000  91065.000000  \n",
       "mean       3.054401     13.517575      0.251123  \n",
       "std        1.945376      6.519531     11.894703  \n",
       "min        0.000000      0.000000      0.000000  \n",
       "25%        1.000000      9.000000      0.011902  \n",
       "50%        3.000000     14.000000      0.019875  \n",
       "75%        5.000000     19.000000      0.032627  \n",
       "max        6.000000     23.000000   2434.714983  "
      ]
     },
     "execution_count": 30,
     "metadata": {},
     "output_type": "execute_result"
    }
   ],
   "source": [
    "df_uber.describe()"
   ]
  },
  {
   "cell_type": "code",
   "execution_count": 31,
   "id": "a16255fd",
   "metadata": {
    "scrolled": false
   },
   "outputs": [
    {
     "name": "stdout",
     "output_type": "stream",
     "text": [
      "       fare_amount           pickup_datetime  pickup_longitude  \\\n",
      "0              7.5 2015-05-07 19:52:06+00:00        -73.999817   \n",
      "1              7.7 2009-07-17 20:04:56+00:00        -73.994355   \n",
      "2             12.9 2009-08-24 21:45:00+00:00        -74.005043   \n",
      "3              5.3 2009-06-26 08:22:21+00:00        -73.976124   \n",
      "4             16.0 2014-08-28 17:47:00+00:00        -73.925023   \n",
      "...            ...                       ...               ...   \n",
      "99994         11.7 2010-04-28 18:12:05+00:00        -73.963816   \n",
      "99995          5.5 2015-03-24 20:18:13+00:00        -73.976456   \n",
      "99996          7.3 2010-06-22 20:15:41+00:00        -73.988247   \n",
      "99997          8.9 2011-12-08 09:17:00+00:00        -73.989210   \n",
      "99998         10.5 2012-10-19 14:43:55+00:00        -73.985381   \n",
      "\n",
      "       pickup_latitude  dropoff_longitude  dropoff_latitude  passenger_count  \\\n",
      "0            40.738354         -73.999512         40.723217                1   \n",
      "1            40.728225         -73.994710         40.750325                1   \n",
      "2            40.740770         -73.962565         40.772647                1   \n",
      "3            40.790844         -73.965316         40.803349                3   \n",
      "4            40.744085         -73.973082         40.761247                5   \n",
      "...                ...                ...               ...              ...   \n",
      "99994        40.774063         -73.986280         40.748599                1   \n",
      "99995        40.760448         -73.982216         40.753769                1   \n",
      "99996        40.764201         -73.990118         40.750934                1   \n",
      "99997        40.755990         -73.974647         40.763308                5   \n",
      "99998        40.735717         -73.971863         40.753913                1   \n",
      "\n",
      "       passenger_count_1  passenger_count_2  passenger_count_3  ...  \\\n",
      "0                      1                  0                  0  ...   \n",
      "1                      1                  0                  0  ...   \n",
      "2                      1                  0                  0  ...   \n",
      "3                      0                  0                  1  ...   \n",
      "4                      0                  0                  0  ...   \n",
      "...                  ...                ...                ...  ...   \n",
      "99994                  1                  0                  0  ...   \n",
      "99995                  1                  0                  0  ...   \n",
      "99996                  1                  0                  0  ...   \n",
      "99997                  0                  0                  0  ...   \n",
      "99998                  1                  0                  0  ...   \n",
      "\n",
      "       passenger_count_5  passenger_count_6  year  month  weekday  hour  \\\n",
      "0                      0                  0  2015      5        3    19   \n",
      "1                      0                  0  2009      7        4    20   \n",
      "2                      0                  0  2009      8        0    21   \n",
      "3                      0                  0  2009      6        4     8   \n",
      "4                      1                  0  2014      8        3    17   \n",
      "...                  ...                ...   ...    ...      ...   ...   \n",
      "99994                  0                  0  2010      4        2    18   \n",
      "99995                  0                  0  2015      3        1    20   \n",
      "99996                  0                  0  2010      6        1    20   \n",
      "99997                  1                  0  2011     12        3     9   \n",
      "99998                  0                  0  2012     10        4    14   \n",
      "\n",
      "       distance  time_of_day time_of_day_encoded  daylight  \n",
      "0      0.015140      Evening                   1         0  \n",
      "1      0.022103      Evening                   1         0  \n",
      "2      0.053109      Evening                   1         0  \n",
      "3      0.016528      Morning                   2         1  \n",
      "4      0.051031    Afternoon                   0         1  \n",
      "...         ...          ...                 ...       ...  \n",
      "99994  0.033957      Evening                   1         1  \n",
      "99995  0.008820      Evening                   1         0  \n",
      "99996  0.013398      Evening                   1         0  \n",
      "99997  0.016298      Morning                   2         1  \n",
      "99998  0.022668    Afternoon                   0         1  \n",
      "\n",
      "[91065 rows x 21 columns]\n"
     ]
    }
   ],
   "source": [
    "# Convert pickup_datetime to datetime\n",
    "df_uber['pickup_datetime'] = pd.to_datetime(df_uber['pickup_datetime'])\n",
    "\n",
    "# Extract hour and categorize time of day\n",
    "df_uber['hour'] = df_uber['pickup_datetime'].dt.hour\n",
    "\n",
    "def time_of_day(hour):\n",
    "    if 0 <= hour < 6:\n",
    "        return 'Night'\n",
    "    elif 6 <= hour < 12:\n",
    "        return 'Morning'\n",
    "    elif 12 <= hour < 18:\n",
    "        return 'Afternoon'\n",
    "    else:\n",
    "        return 'Evening'\n",
    "\n",
    "df_uber['time_of_day'] = df_uber['hour'].apply(time_of_day)\n",
    "\n",
    "# Label Encoding for 'time_of_day'\n",
    "label_encoder = LabelEncoder()\n",
    "df_uber['time_of_day_encoded'] = label_encoder.fit_transform(df_uber['time_of_day'])\n",
    "\n",
    "# Encode daylight feature (1 for daylight, 0 for no light)\n",
    "df_uber['daylight'] = df_uber['hour'].apply(lambda x: 1 if 6 <= x < 19 else 0)\n",
    "print(df_uber)"
   ]
  },
  {
   "cell_type": "code",
   "execution_count": 32,
   "id": "f48e3d53",
   "metadata": {
    "scrolled": false
   },
   "outputs": [
    {
     "data": {
      "text/plain": [
       "1    53401\n",
       "0    37664\n",
       "Name: daylight, dtype: int64"
      ]
     },
     "execution_count": 32,
     "metadata": {},
     "output_type": "execute_result"
    }
   ],
   "source": [
    "df_uber['daylight'].value_counts()"
   ]
  },
  {
   "cell_type": "markdown",
   "id": "e191b55f",
   "metadata": {},
   "source": [
    "<div class=\"alert alert-block alert-success\">\n",
    "\n",
    "__Daylight rides__ (1): 53401\n",
    "\n",
    "These rides occurred between 6 AM and 6:59 PM when natural light was present.\n",
    "This suggests that a majority (~59.5% of rides) happened during daylight hours, likely influenced by work commutes, errands, and business activities.\n",
    "\n",
    "__Night rides__(0): 37664\n",
    "\n",
    "These rides took place between 7 PM and 5:59 AM, meaning they occurred in low-light or dark conditions.\n",
    "This accounts for ~40.5% of total rides, likely influenced by nightlife, late-night travel, or early morning airport commutes.\n",
    "    \n",
    "</div> "
   ]
  },
  {
   "cell_type": "code",
   "execution_count": 33,
   "id": "93b45905",
   "metadata": {},
   "outputs": [],
   "source": [
    "df_uber.drop(columns=['pickup_longitude',\n",
    "                      'pickup_datetime','pickup_latitude','dropoff_longitude','dropoff_latitude',\n",
    "                      'passenger_count','year','time_of_day','time_of_day_encoded','passenger_count_6'],inplace=True)\n"
   ]
  },
  {
   "cell_type": "code",
   "execution_count": 34,
   "id": "30b0cb5b",
   "metadata": {
    "scrolled": false
   },
   "outputs": [
    {
     "data": {
      "text/html": [
       "<div>\n",
       "<style scoped>\n",
       "    .dataframe tbody tr th:only-of-type {\n",
       "        vertical-align: middle;\n",
       "    }\n",
       "\n",
       "    .dataframe tbody tr th {\n",
       "        vertical-align: top;\n",
       "    }\n",
       "\n",
       "    .dataframe thead th {\n",
       "        text-align: right;\n",
       "    }\n",
       "</style>\n",
       "<table border=\"1\" class=\"dataframe\">\n",
       "  <thead>\n",
       "    <tr style=\"text-align: right;\">\n",
       "      <th></th>\n",
       "      <th>fare_amount</th>\n",
       "      <th>passenger_count_1</th>\n",
       "      <th>passenger_count_2</th>\n",
       "      <th>passenger_count_3</th>\n",
       "      <th>passenger_count_4</th>\n",
       "      <th>passenger_count_5</th>\n",
       "      <th>month</th>\n",
       "      <th>weekday</th>\n",
       "      <th>hour</th>\n",
       "      <th>distance</th>\n",
       "      <th>daylight</th>\n",
       "    </tr>\n",
       "  </thead>\n",
       "  <tbody>\n",
       "    <tr>\n",
       "      <th>0</th>\n",
       "      <td>7.5</td>\n",
       "      <td>1</td>\n",
       "      <td>0</td>\n",
       "      <td>0</td>\n",
       "      <td>0</td>\n",
       "      <td>0</td>\n",
       "      <td>5</td>\n",
       "      <td>3</td>\n",
       "      <td>19</td>\n",
       "      <td>0.015140</td>\n",
       "      <td>0</td>\n",
       "    </tr>\n",
       "    <tr>\n",
       "      <th>1</th>\n",
       "      <td>7.7</td>\n",
       "      <td>1</td>\n",
       "      <td>0</td>\n",
       "      <td>0</td>\n",
       "      <td>0</td>\n",
       "      <td>0</td>\n",
       "      <td>7</td>\n",
       "      <td>4</td>\n",
       "      <td>20</td>\n",
       "      <td>0.022103</td>\n",
       "      <td>0</td>\n",
       "    </tr>\n",
       "    <tr>\n",
       "      <th>2</th>\n",
       "      <td>12.9</td>\n",
       "      <td>1</td>\n",
       "      <td>0</td>\n",
       "      <td>0</td>\n",
       "      <td>0</td>\n",
       "      <td>0</td>\n",
       "      <td>8</td>\n",
       "      <td>0</td>\n",
       "      <td>21</td>\n",
       "      <td>0.053109</td>\n",
       "      <td>0</td>\n",
       "    </tr>\n",
       "    <tr>\n",
       "      <th>3</th>\n",
       "      <td>5.3</td>\n",
       "      <td>0</td>\n",
       "      <td>0</td>\n",
       "      <td>1</td>\n",
       "      <td>0</td>\n",
       "      <td>0</td>\n",
       "      <td>6</td>\n",
       "      <td>4</td>\n",
       "      <td>8</td>\n",
       "      <td>0.016528</td>\n",
       "      <td>1</td>\n",
       "    </tr>\n",
       "    <tr>\n",
       "      <th>4</th>\n",
       "      <td>16.0</td>\n",
       "      <td>0</td>\n",
       "      <td>0</td>\n",
       "      <td>0</td>\n",
       "      <td>0</td>\n",
       "      <td>1</td>\n",
       "      <td>8</td>\n",
       "      <td>3</td>\n",
       "      <td>17</td>\n",
       "      <td>0.051031</td>\n",
       "      <td>1</td>\n",
       "    </tr>\n",
       "    <tr>\n",
       "      <th>...</th>\n",
       "      <td>...</td>\n",
       "      <td>...</td>\n",
       "      <td>...</td>\n",
       "      <td>...</td>\n",
       "      <td>...</td>\n",
       "      <td>...</td>\n",
       "      <td>...</td>\n",
       "      <td>...</td>\n",
       "      <td>...</td>\n",
       "      <td>...</td>\n",
       "      <td>...</td>\n",
       "    </tr>\n",
       "    <tr>\n",
       "      <th>99994</th>\n",
       "      <td>11.7</td>\n",
       "      <td>1</td>\n",
       "      <td>0</td>\n",
       "      <td>0</td>\n",
       "      <td>0</td>\n",
       "      <td>0</td>\n",
       "      <td>4</td>\n",
       "      <td>2</td>\n",
       "      <td>18</td>\n",
       "      <td>0.033957</td>\n",
       "      <td>1</td>\n",
       "    </tr>\n",
       "    <tr>\n",
       "      <th>99995</th>\n",
       "      <td>5.5</td>\n",
       "      <td>1</td>\n",
       "      <td>0</td>\n",
       "      <td>0</td>\n",
       "      <td>0</td>\n",
       "      <td>0</td>\n",
       "      <td>3</td>\n",
       "      <td>1</td>\n",
       "      <td>20</td>\n",
       "      <td>0.008820</td>\n",
       "      <td>0</td>\n",
       "    </tr>\n",
       "    <tr>\n",
       "      <th>99996</th>\n",
       "      <td>7.3</td>\n",
       "      <td>1</td>\n",
       "      <td>0</td>\n",
       "      <td>0</td>\n",
       "      <td>0</td>\n",
       "      <td>0</td>\n",
       "      <td>6</td>\n",
       "      <td>1</td>\n",
       "      <td>20</td>\n",
       "      <td>0.013398</td>\n",
       "      <td>0</td>\n",
       "    </tr>\n",
       "    <tr>\n",
       "      <th>99997</th>\n",
       "      <td>8.9</td>\n",
       "      <td>0</td>\n",
       "      <td>0</td>\n",
       "      <td>0</td>\n",
       "      <td>0</td>\n",
       "      <td>1</td>\n",
       "      <td>12</td>\n",
       "      <td>3</td>\n",
       "      <td>9</td>\n",
       "      <td>0.016298</td>\n",
       "      <td>1</td>\n",
       "    </tr>\n",
       "    <tr>\n",
       "      <th>99998</th>\n",
       "      <td>10.5</td>\n",
       "      <td>1</td>\n",
       "      <td>0</td>\n",
       "      <td>0</td>\n",
       "      <td>0</td>\n",
       "      <td>0</td>\n",
       "      <td>10</td>\n",
       "      <td>4</td>\n",
       "      <td>14</td>\n",
       "      <td>0.022668</td>\n",
       "      <td>1</td>\n",
       "    </tr>\n",
       "  </tbody>\n",
       "</table>\n",
       "<p>91065 rows × 11 columns</p>\n",
       "</div>"
      ],
      "text/plain": [
       "       fare_amount  passenger_count_1  passenger_count_2  passenger_count_3  \\\n",
       "0              7.5                  1                  0                  0   \n",
       "1              7.7                  1                  0                  0   \n",
       "2             12.9                  1                  0                  0   \n",
       "3              5.3                  0                  0                  1   \n",
       "4             16.0                  0                  0                  0   \n",
       "...            ...                ...                ...                ...   \n",
       "99994         11.7                  1                  0                  0   \n",
       "99995          5.5                  1                  0                  0   \n",
       "99996          7.3                  1                  0                  0   \n",
       "99997          8.9                  0                  0                  0   \n",
       "99998         10.5                  1                  0                  0   \n",
       "\n",
       "       passenger_count_4  passenger_count_5  month  weekday  hour  distance  \\\n",
       "0                      0                  0      5        3    19  0.015140   \n",
       "1                      0                  0      7        4    20  0.022103   \n",
       "2                      0                  0      8        0    21  0.053109   \n",
       "3                      0                  0      6        4     8  0.016528   \n",
       "4                      0                  1      8        3    17  0.051031   \n",
       "...                  ...                ...    ...      ...   ...       ...   \n",
       "99994                  0                  0      4        2    18  0.033957   \n",
       "99995                  0                  0      3        1    20  0.008820   \n",
       "99996                  0                  0      6        1    20  0.013398   \n",
       "99997                  0                  1     12        3     9  0.016298   \n",
       "99998                  0                  0     10        4    14  0.022668   \n",
       "\n",
       "       daylight  \n",
       "0             0  \n",
       "1             0  \n",
       "2             0  \n",
       "3             1  \n",
       "4             1  \n",
       "...         ...  \n",
       "99994         1  \n",
       "99995         0  \n",
       "99996         0  \n",
       "99997         1  \n",
       "99998         1  \n",
       "\n",
       "[91065 rows x 11 columns]"
      ]
     },
     "execution_count": 34,
     "metadata": {},
     "output_type": "execute_result"
    }
   ],
   "source": [
    "df_uber"
   ]
  },
  {
   "cell_type": "code",
   "execution_count": 35,
   "id": "25455d41",
   "metadata": {
    "scrolled": false
   },
   "outputs": [
    {
     "data": {
      "text/plain": [
       "<Axes: >"
      ]
     },
     "execution_count": 35,
     "metadata": {},
     "output_type": "execute_result"
    },
    {
     "data": {
      "image/png": "[encoded data removed]",
      "text/plain": [
       "<Figure size 640x480 with 1 Axes>"
      ]
     },
     "metadata": {},
     "output_type": "display_data"
    }
   ],
   "source": [
    "# detect outliers in 'distance' column\n",
    "df_uber['distance'].plot(kind='box')"
   ]
  },
  {
   "cell_type": "code",
   "execution_count": 36,
   "id": "8a6a90c5",
   "metadata": {},
   "outputs": [],
   "source": [
    "# Function to count the number of outliers in the specified column (distance) using the IQR method\n",
    "# Outliers are defined as values below Q1 - 1.5*IQR or above Q3 + 1.5*IQR\n",
    "def count_outliers(df_uber, distance):\n",
    "    Q1 = df_uber[distance].quantile(0.25)\n",
    "    Q3 = df_uber[distance].quantile(0.75)\n",
    "    IQR = Q3 - Q1\n",
    "    lower_bound = Q1 - 1.5 * IQR\n",
    "    upper_bound = Q3 + 1.5 * IQR\n",
    "    outliers = df_uber[(df_uber[distance] < lower_bound) | (df_uber[distance] > upper_bound)]\n",
    "    return len(outliers)"
   ]
  },
  {
   "cell_type": "code",
   "execution_count": 37,
   "id": "b881b1ca",
   "metadata": {
    "scrolled": true
   },
   "outputs": [],
   "source": [
    "# Calculate Q1 (25th percentile) and Q3 (75th percentile) for 'distance'\n",
    "Q1 = df_uber['distance'].quantile(0.25)\n",
    "Q3 = df_uber['distance'].quantile(0.75)\n",
    "\n",
    "# Calculate the IQR\n",
    "IQR = Q3 - Q1\n",
    "\n",
    "# Define the lower and upper bounds for outliers\n",
    "lower_bound = Q1 - 1.5 * IQR\n",
    "upper_bound = Q3 + 1.5 * IQR\n",
    "\n",
    "# Filter the DataFrame to exclude outliers in the 'distance' column\n",
    "df_uber = df_uber[(df_uber['distance'] >= lower_bound) & (df_uber['distance'] <= upper_bound)]"
   ]
  },
  {
   "cell_type": "code",
   "execution_count": 38,
   "id": "8799a8c1",
   "metadata": {},
   "outputs": [
    {
     "data": {
      "text/plain": [
       "<Axes: >"
      ]
     },
     "execution_count": 38,
     "metadata": {},
     "output_type": "execute_result"
    },
    {
     "data": {
      "image/png": "[encoded data removed]",
      "text/plain": [
       "<Figure size 640x480 with 1 Axes>"
      ]
     },
     "metadata": {},
     "output_type": "display_data"
    }
   ],
   "source": [
    "df_uber['distance'].plot(kind='box')"
   ]
  },
  {
   "cell_type": "markdown",
   "id": "37cb6f96",
   "metadata": {},
   "source": [
    "### Exploratory Data Analysis"
   ]
  },
  {
   "cell_type": "code",
   "execution_count": 39,
   "id": "1ea41d5c",
   "metadata": {
    "scrolled": true
   },
   "outputs": [
    {
     "data": {
      "image/png": "[encoded data removed]",
      "text/plain": [
       "<Figure size 400x300 with 1 Axes>"
      ]
     },
     "metadata": {},
     "output_type": "display_data"
    }
   ],
   "source": [
    "plt.figure(figsize=(4, 3))\n",
    "sns.countplot(x=df_uber[\"weekday\"])\n",
    "plt.title('Ride count over Weekdays')\n",
    "plt.show()"
   ]
  },
  {
   "cell_type": "markdown",
   "id": "90ce3184",
   "metadata": {},
   "source": [
    "\n",
    "<div class=\"alert alert-block alert-success\">\n",
    "    \n",
    "From the bar chart, it is evident that ride counts fluctuate across weekdays. While most weekdays exhibit relatively similar ride volumes, there is a slight dip on day 0 (Sunday) and day 6 (Saturday), indicating fewer rides on weekends compared to weekdays. This trend suggests that Uber rides are more frequent on working days, possibly due to commuting patterns. The analysis provides valuable insights into demand patterns, which can be further used to optimize pricing models and resource allocation for Uber's services.\n",
    "    \n",
    "</div>"
   ]
  },
  {
   "cell_type": "code",
   "execution_count": 40,
   "id": "ca242f32",
   "metadata": {
    "scrolled": true
   },
   "outputs": [
    {
     "data": {
      "image/png": "[encoded data removed]",
      "text/plain": [
       "<Figure size 800x300 with 1 Axes>"
      ]
     },
     "metadata": {},
     "output_type": "display_data"
    }
   ],
   "source": [
    "plt.figure(figsize=(8, 3))\n",
    "sns.countplot(x=df_uber[\"hour\"])\n",
    "plt.title('Ride count over Hourly Segments')\n",
    "plt.show()"
   ]
  },
  {
   "cell_type": "markdown",
   "id": "2beb2845",
   "metadata": {},
   "source": [
    "\n",
    "<div class=\"alert alert-block alert-warning\">\n",
    "    \n",
    "The distribution of Uber rides across different hours, visualized through a countplot generated.This visualization highlights the expected peak demand during morning and evening rush hours.\n",
    "The peak hours for rides are between 6 PM and 10 PM, with the highest number of rides occurring around 8 PM.\n",
    "The lowest number of rides occurs in the early morning hours, around 2 AM and 3 AM.\n",
    "There is a general increase in the number of rides from the early morning hours until the peak hours, followed by a gradual decrease towards the late night hours.\n",
    "    \n",
    " </div>"
   ]
  },
  {
   "cell_type": "code",
   "execution_count": 41,
   "id": "bcb27989",
   "metadata": {},
   "outputs": [
    {
     "data": {
      "image/png": "[encoded data removed]",
      "text/plain": [
       "<Figure size 640x480 with 2 Axes>"
      ]
     },
     "metadata": {},
     "output_type": "display_data"
    }
   ],
   "source": [
    "# Looking the correlation between the features\n",
    "sns.heatmap(df_uber.corr(), cmap=\"YlGnBu\")\n",
    "plt.show()"
   ]
  },
  {
   "cell_type": "markdown",
   "id": "b6484747",
   "metadata": {},
   "source": [
    "<div class=\"alert alert-block alert-success\">\n",
    "    \n",
    "    \n",
    "__1.Fare Amount vs. Distance__:\n",
    "Yes, the heatmap shows a strong positive correlation between fare_amount and distance, which suggests that longer rides tend to have higher fares.\n",
    "    \n",
    "__2.Fare Amount vs. Passenger Count__:\n",
    "The claim that fare_amount has a moderate positive correlation with passenger_count_1 is not necessarily correct. The heatmap does not directly imply that rides with one passenger are more expensive; rather, it may reflect an imbalance in the dataset where single-passenger rides dominate.\n",
    "The negative correlation between fare_amount and passenger_count_2 to passenger_count_6 suggests that rides with multiple passengers might have lower fares, possibly due to shared rides or fare splitting. However, this relationship should be explored further.\n",
    "    \n",
    "__3.Passenger Count Variables__:\n",
    "The negative correlations among passenger count variables confirm that they are one-hot encoded (only one category can be active at a time).\n",
    "    \n",
    "__4.Time-Related Variables (Month, Weekday, Hour)__:\n",
    "The heatmap suggests that time-related variables (month, weekday, hour) have weak correlations with fare amount. This means that fare variations are not strongly dependent on these factors alone, although they might influence fares indirectly (e.g., surge pricing).\n",
    " \n",
    "</div> "
   ]
  },
  {
   "cell_type": "markdown",
   "id": "abd1833b",
   "metadata": {},
   "source": [
    "## Final Model Building"
   ]
  },
  {
   "cell_type": "code",
   "execution_count": 42,
   "id": "6806ccbb",
   "metadata": {},
   "outputs": [],
   "source": [
    "X = df_uber.drop(columns=['fare_amount'])  # All columns except ARR_DELAY  "
   ]
  },
  {
   "cell_type": "code",
   "execution_count": 43,
   "id": "5008b3be",
   "metadata": {},
   "outputs": [],
   "source": [
    "y =df_uber['fare_amount']"
   ]
  },
  {
   "cell_type": "code",
   "execution_count": 44,
   "id": "5c50131c",
   "metadata": {},
   "outputs": [],
   "source": [
    "X_train, X_test, y_train, y_test = train_test_split(X, y, test_size=0.2, random_state=42)"
   ]
  },
  {
   "cell_type": "code",
   "execution_count": 45,
   "id": "04016139",
   "metadata": {
    "scrolled": false
   },
   "outputs": [
    {
     "data": {
      "text/html": [
       "<div>\n",
       "<style scoped>\n",
       "    .dataframe tbody tr th:only-of-type {\n",
       "        vertical-align: middle;\n",
       "    }\n",
       "\n",
       "    .dataframe tbody tr th {\n",
       "        vertical-align: top;\n",
       "    }\n",
       "\n",
       "    .dataframe thead th {\n",
       "        text-align: right;\n",
       "    }\n",
       "</style>\n",
       "<table border=\"1\" class=\"dataframe\">\n",
       "  <thead>\n",
       "    <tr style=\"text-align: right;\">\n",
       "      <th></th>\n",
       "      <th>passenger_count_1</th>\n",
       "      <th>passenger_count_2</th>\n",
       "      <th>passenger_count_3</th>\n",
       "      <th>passenger_count_4</th>\n",
       "      <th>passenger_count_5</th>\n",
       "      <th>month</th>\n",
       "      <th>weekday</th>\n",
       "      <th>hour</th>\n",
       "      <th>distance</th>\n",
       "      <th>daylight</th>\n",
       "    </tr>\n",
       "  </thead>\n",
       "  <tbody>\n",
       "    <tr>\n",
       "      <th>11101</th>\n",
       "      <td>0</td>\n",
       "      <td>1</td>\n",
       "      <td>0</td>\n",
       "      <td>0</td>\n",
       "      <td>0</td>\n",
       "      <td>10</td>\n",
       "      <td>3</td>\n",
       "      <td>18</td>\n",
       "      <td>0.037622</td>\n",
       "      <td>1</td>\n",
       "    </tr>\n",
       "    <tr>\n",
       "      <th>63050</th>\n",
       "      <td>1</td>\n",
       "      <td>0</td>\n",
       "      <td>0</td>\n",
       "      <td>0</td>\n",
       "      <td>0</td>\n",
       "      <td>7</td>\n",
       "      <td>4</td>\n",
       "      <td>20</td>\n",
       "      <td>0.013137</td>\n",
       "      <td>0</td>\n",
       "    </tr>\n",
       "    <tr>\n",
       "      <th>18827</th>\n",
       "      <td>1</td>\n",
       "      <td>0</td>\n",
       "      <td>0</td>\n",
       "      <td>0</td>\n",
       "      <td>0</td>\n",
       "      <td>10</td>\n",
       "      <td>2</td>\n",
       "      <td>13</td>\n",
       "      <td>0.013196</td>\n",
       "      <td>1</td>\n",
       "    </tr>\n",
       "    <tr>\n",
       "      <th>62278</th>\n",
       "      <td>1</td>\n",
       "      <td>0</td>\n",
       "      <td>0</td>\n",
       "      <td>0</td>\n",
       "      <td>0</td>\n",
       "      <td>3</td>\n",
       "      <td>5</td>\n",
       "      <td>0</td>\n",
       "      <td>0.006275</td>\n",
       "      <td>0</td>\n",
       "    </tr>\n",
       "    <tr>\n",
       "      <th>71408</th>\n",
       "      <td>1</td>\n",
       "      <td>0</td>\n",
       "      <td>0</td>\n",
       "      <td>0</td>\n",
       "      <td>0</td>\n",
       "      <td>4</td>\n",
       "      <td>4</td>\n",
       "      <td>23</td>\n",
       "      <td>0.057603</td>\n",
       "      <td>0</td>\n",
       "    </tr>\n",
       "    <tr>\n",
       "      <th>...</th>\n",
       "      <td>...</td>\n",
       "      <td>...</td>\n",
       "      <td>...</td>\n",
       "      <td>...</td>\n",
       "      <td>...</td>\n",
       "      <td>...</td>\n",
       "      <td>...</td>\n",
       "      <td>...</td>\n",
       "      <td>...</td>\n",
       "      <td>...</td>\n",
       "    </tr>\n",
       "    <tr>\n",
       "      <th>7181</th>\n",
       "      <td>1</td>\n",
       "      <td>0</td>\n",
       "      <td>0</td>\n",
       "      <td>0</td>\n",
       "      <td>0</td>\n",
       "      <td>7</td>\n",
       "      <td>4</td>\n",
       "      <td>3</td>\n",
       "      <td>0.031940</td>\n",
       "      <td>0</td>\n",
       "    </tr>\n",
       "    <tr>\n",
       "      <th>63222</th>\n",
       "      <td>0</td>\n",
       "      <td>0</td>\n",
       "      <td>0</td>\n",
       "      <td>1</td>\n",
       "      <td>0</td>\n",
       "      <td>2</td>\n",
       "      <td>5</td>\n",
       "      <td>21</td>\n",
       "      <td>0.018013</td>\n",
       "      <td>0</td>\n",
       "    </tr>\n",
       "    <tr>\n",
       "      <th>88393</th>\n",
       "      <td>1</td>\n",
       "      <td>0</td>\n",
       "      <td>0</td>\n",
       "      <td>0</td>\n",
       "      <td>0</td>\n",
       "      <td>12</td>\n",
       "      <td>4</td>\n",
       "      <td>14</td>\n",
       "      <td>0.015150</td>\n",
       "      <td>1</td>\n",
       "    </tr>\n",
       "    <tr>\n",
       "      <th>987</th>\n",
       "      <td>0</td>\n",
       "      <td>1</td>\n",
       "      <td>0</td>\n",
       "      <td>0</td>\n",
       "      <td>0</td>\n",
       "      <td>3</td>\n",
       "      <td>5</td>\n",
       "      <td>2</td>\n",
       "      <td>0.026380</td>\n",
       "      <td>0</td>\n",
       "    </tr>\n",
       "    <tr>\n",
       "      <th>18180</th>\n",
       "      <td>1</td>\n",
       "      <td>0</td>\n",
       "      <td>0</td>\n",
       "      <td>0</td>\n",
       "      <td>0</td>\n",
       "      <td>4</td>\n",
       "      <td>3</td>\n",
       "      <td>21</td>\n",
       "      <td>0.016231</td>\n",
       "      <td>0</td>\n",
       "    </tr>\n",
       "  </tbody>\n",
       "</table>\n",
       "<p>69563 rows × 10 columns</p>\n",
       "</div>"
      ],
      "text/plain": [
       "       passenger_count_1  passenger_count_2  passenger_count_3  \\\n",
       "11101                  0                  1                  0   \n",
       "63050                  1                  0                  0   \n",
       "18827                  1                  0                  0   \n",
       "62278                  1                  0                  0   \n",
       "71408                  1                  0                  0   \n",
       "...                  ...                ...                ...   \n",
       "7181                   1                  0                  0   \n",
       "63222                  0                  0                  0   \n",
       "88393                  1                  0                  0   \n",
       "987                    0                  1                  0   \n",
       "18180                  1                  0                  0   \n",
       "\n",
       "       passenger_count_4  passenger_count_5  month  weekday  hour  distance  \\\n",
       "11101                  0                  0     10        3    18  0.037622   \n",
       "63050                  0                  0      7        4    20  0.013137   \n",
       "18827                  0                  0     10        2    13  0.013196   \n",
       "62278                  0                  0      3        5     0  0.006275   \n",
       "71408                  0                  0      4        4    23  0.057603   \n",
       "...                  ...                ...    ...      ...   ...       ...   \n",
       "7181                   0                  0      7        4     3  0.031940   \n",
       "63222                  1                  0      2        5    21  0.018013   \n",
       "88393                  0                  0     12        4    14  0.015150   \n",
       "987                    0                  0      3        5     2  0.026380   \n",
       "18180                  0                  0      4        3    21  0.016231   \n",
       "\n",
       "       daylight  \n",
       "11101         1  \n",
       "63050         0  \n",
       "18827         1  \n",
       "62278         0  \n",
       "71408         0  \n",
       "...         ...  \n",
       "7181          0  \n",
       "63222         0  \n",
       "88393         1  \n",
       "987           0  \n",
       "18180         0  \n",
       "\n",
       "[69563 rows x 10 columns]"
      ]
     },
     "execution_count": 45,
     "metadata": {},
     "output_type": "execute_result"
    }
   ],
   "source": [
    "X_train "
   ]
  },
  {
   "cell_type": "markdown",
   "id": "852a51a6",
   "metadata": {},
   "source": [
    "\n",
    "## Linear Regression"
   ]
  },
  {
   "cell_type": "code",
   "execution_count": 46,
   "id": "8c8d871f",
   "metadata": {},
   "outputs": [
    {
     "data": {
      "text/html": [
       "<style>#sk-container-id-1 {color: black;}#sk-container-id-1 pre{padding: 0;}#sk-container-id-1 div.sk-toggleable {background-color: white;}#sk-container-id-1 label.sk-toggleable__label {cursor: pointer;display: block;width: 100%;margin-bottom: 0;padding: 0.3em;box-sizing: border-box;text-align: center;}#sk-container-id-1 label.sk-toggleable__label-arrow:before {content: \"▸\";float: left;margin-right: 0.25em;color: #696969;}#sk-container-id-1 label.sk-toggleable__label-arrow:hover:before {color: black;}#sk-container-id-1 div.sk-estimator:hover label.sk-toggleable__label-arrow:before {color: black;}#sk-container-id-1 div.sk-toggleable__content {max-height: 0;max-width: 0;overflow: hidden;text-align: left;background-color: #f0f8ff;}#sk-container-id-1 div.sk-toggleable__content pre {margin: 0.2em;color: black;border-radius: 0.25em;background-color: #f0f8ff;}#sk-container-id-1 input.sk-toggleable__control:checked~div.sk-toggleable__content {max-height: 200px;max-width: 100%;overflow: auto;}#sk-container-id-1 input.sk-toggleable__control:checked~label.sk-toggleable__label-arrow:before {content: \"▾\";}#sk-container-id-1 div.sk-estimator input.sk-toggleable__control:checked~label.sk-toggleable__label {background-color: #d4ebff;}#sk-container-id-1 div.sk-label input.sk-toggleable__control:checked~label.sk-toggleable__label {background-color: #d4ebff;}#sk-container-id-1 input.sk-hidden--visually {border: 0;clip: rect(1px 1px 1px 1px);clip: rect(1px, 1px, 1px, 1px);height: 1px;margin: -1px;overflow: hidden;padding: 0;position: absolute;width: 1px;}#sk-container-id-1 div.sk-estimator {font-family: monospace;background-color: #f0f8ff;border: 1px dotted black;border-radius: 0.25em;box-sizing: border-box;margin-bottom: 0.5em;}#sk-container-id-1 div.sk-estimator:hover {background-color: #d4ebff;}#sk-container-id-1 div.sk-parallel-item::after {content: \"\";width: 100%;border-bottom: 1px solid gray;flex-grow: 1;}#sk-container-id-1 div.sk-label:hover label.sk-toggleable__label {background-color: #d4ebff;}#sk-container-id-1 div.sk-serial::before {content: \"\";position: absolute;border-left: 1px solid gray;box-sizing: border-box;top: 0;bottom: 0;left: 50%;z-index: 0;}#sk-container-id-1 div.sk-serial {display: flex;flex-direction: column;align-items: center;background-color: white;padding-right: 0.2em;padding-left: 0.2em;position: relative;}#sk-container-id-1 div.sk-item {position: relative;z-index: 1;}#sk-container-id-1 div.sk-parallel {display: flex;align-items: stretch;justify-content: center;background-color: white;position: relative;}#sk-container-id-1 div.sk-item::before, #sk-container-id-1 div.sk-parallel-item::before {content: \"\";position: absolute;border-left: 1px solid gray;box-sizing: border-box;top: 0;bottom: 0;left: 50%;z-index: -1;}#sk-container-id-1 div.sk-parallel-item {display: flex;flex-direction: column;z-index: 1;position: relative;background-color: white;}#sk-container-id-1 div.sk-parallel-item:first-child::after {align-self: flex-end;width: 50%;}#sk-container-id-1 div.sk-parallel-item:last-child::after {align-self: flex-start;width: 50%;}#sk-container-id-1 div.sk-parallel-item:only-child::after {width: 0;}#sk-container-id-1 div.sk-dashed-wrapped {border: 1px dashed gray;margin: 0 0.4em 0.5em 0.4em;box-sizing: border-box;padding-bottom: 0.4em;background-color: white;}#sk-container-id-1 div.sk-label label {font-family: monospace;font-weight: bold;display: inline-block;line-height: 1.2em;}#sk-container-id-1 div.sk-label-container {text-align: center;}#sk-container-id-1 div.sk-container {/* jupyter's `normalize.less` sets `[hidden] { display: none; }` but bootstrap.min.css set `[hidden] { display: none !important; }` so we also need the `!important` here to be able to override the default hidden behavior on the sphinx rendered scikit-learn.org. See: https://github.com/scikit-learn/scikit-learn/issues/21755 */display: inline-block !important;position: relative;}#sk-container-id-1 div.sk-text-repr-fallback {display: none;}</style><div id=\"sk-container-id-1\" class=\"sk-top-container\"><div class=\"sk-text-repr-fallback\"><pre>LinearRegression()</pre><b>In a Jupyter environment, please rerun this cell to show the HTML representation or trust the notebook. <br />On GitHub, the HTML representation is unable to render, please try loading this page with nbviewer.org.</b></div><div class=\"sk-container\" hidden><div class=\"sk-item\"><div class=\"sk-estimator sk-toggleable\"><input class=\"sk-toggleable__control sk-hidden--visually\" id=\"sk-estimator-id-1\" type=\"checkbox\" checked><label for=\"sk-estimator-id-1\" class=\"sk-toggleable__label sk-toggleable__label-arrow\">LinearRegression</label><div class=\"sk-toggleable__content\"><pre>LinearRegression()</pre></div></div></div></div></div>"
      ],
      "text/plain": [
       "LinearRegression()"
      ]
     },
     "execution_count": 46,
     "metadata": {},
     "output_type": "execute_result"
    }
   ],
   "source": [
    "# Creating and training the model\n",
    "model_linear_regression = LinearRegression()\n",
    "model_linear_regression.fit(X_train, y_train)"
   ]
  },
  {
   "cell_type": "code",
   "execution_count": 47,
   "id": "98e32acd",
   "metadata": {},
   "outputs": [],
   "source": [
    "# Making predictions\n",
    "y_pred_linear_regression = model_linear_regression.predict(X_test)"
   ]
  },
  {
   "cell_type": "code",
   "execution_count": 48,
   "id": "4ea91c87",
   "metadata": {},
   "outputs": [
    {
     "name": "stdout",
     "output_type": "stream",
     "text": [
      "Mean Squared Error (Linear Regression): 5.9612859826570315\n",
      "Root Mean Squared Error (Linear Regression): 2.4415744884514647\n"
     ]
    }
   ],
   "source": [
    "# Evaluating the model\n",
    "mse = mean_squared_error(y_test, y_pred_linear_regression)\n",
    "rmse = np.sqrt(mse)\n",
    "\n",
    "print(f\"Mean Squared Error (Linear Regression): {mse}\")\n",
    "print(f\"Root Mean Squared Error (Linear Regression): {rmse}\")"
   ]
  },
  {
   "cell_type": "markdown",
   "id": "d7d5885d",
   "metadata": {},
   "source": [
    "## Random Forest"
   ]
  },
  {
   "cell_type": "code",
   "execution_count": 49,
   "id": "cd2dc9bb",
   "metadata": {
    "scrolled": true
   },
   "outputs": [
    {
     "data": {
      "text/html": [
       "<style>#sk-container-id-2 {color: black;}#sk-container-id-2 pre{padding: 0;}#sk-container-id-2 div.sk-toggleable {background-color: white;}#sk-container-id-2 label.sk-toggleable__label {cursor: pointer;display: block;width: 100%;margin-bottom: 0;padding: 0.3em;box-sizing: border-box;text-align: center;}#sk-container-id-2 label.sk-toggleable__label-arrow:before {content: \"▸\";float: left;margin-right: 0.25em;color: #696969;}#sk-container-id-2 label.sk-toggleable__label-arrow:hover:before {color: black;}#sk-container-id-2 div.sk-estimator:hover label.sk-toggleable__label-arrow:before {color: black;}#sk-container-id-2 div.sk-toggleable__content {max-height: 0;max-width: 0;overflow: hidden;text-align: left;background-color: #f0f8ff;}#sk-container-id-2 div.sk-toggleable__content pre {margin: 0.2em;color: black;border-radius: 0.25em;background-color: #f0f8ff;}#sk-container-id-2 input.sk-toggleable__control:checked~div.sk-toggleable__content {max-height: 200px;max-width: 100%;overflow: auto;}#sk-container-id-2 input.sk-toggleable__control:checked~label.sk-toggleable__label-arrow:before {content: \"▾\";}#sk-container-id-2 div.sk-estimator input.sk-toggleable__control:checked~label.sk-toggleable__label {background-color: #d4ebff;}#sk-container-id-2 div.sk-label input.sk-toggleable__control:checked~label.sk-toggleable__label {background-color: #d4ebff;}#sk-container-id-2 input.sk-hidden--visually {border: 0;clip: rect(1px 1px 1px 1px);clip: rect(1px, 1px, 1px, 1px);height: 1px;margin: -1px;overflow: hidden;padding: 0;position: absolute;width: 1px;}#sk-container-id-2 div.sk-estimator {font-family: monospace;background-color: #f0f8ff;border: 1px dotted black;border-radius: 0.25em;box-sizing: border-box;margin-bottom: 0.5em;}#sk-container-id-2 div.sk-estimator:hover {background-color: #d4ebff;}#sk-container-id-2 div.sk-parallel-item::after {content: \"\";width: 100%;border-bottom: 1px solid gray;flex-grow: 1;}#sk-container-id-2 div.sk-label:hover label.sk-toggleable__label {background-color: #d4ebff;}#sk-container-id-2 div.sk-serial::before {content: \"\";position: absolute;border-left: 1px solid gray;box-sizing: border-box;top: 0;bottom: 0;left: 50%;z-index: 0;}#sk-container-id-2 div.sk-serial {display: flex;flex-direction: column;align-items: center;background-color: white;padding-right: 0.2em;padding-left: 0.2em;position: relative;}#sk-container-id-2 div.sk-item {position: relative;z-index: 1;}#sk-container-id-2 div.sk-parallel {display: flex;align-items: stretch;justify-content: center;background-color: white;position: relative;}#sk-container-id-2 div.sk-item::before, #sk-container-id-2 div.sk-parallel-item::before {content: \"\";position: absolute;border-left: 1px solid gray;box-sizing: border-box;top: 0;bottom: 0;left: 50%;z-index: -1;}#sk-container-id-2 div.sk-parallel-item {display: flex;flex-direction: column;z-index: 1;position: relative;background-color: white;}#sk-container-id-2 div.sk-parallel-item:first-child::after {align-self: flex-end;width: 50%;}#sk-container-id-2 div.sk-parallel-item:last-child::after {align-self: flex-start;width: 50%;}#sk-container-id-2 div.sk-parallel-item:only-child::after {width: 0;}#sk-container-id-2 div.sk-dashed-wrapped {border: 1px dashed gray;margin: 0 0.4em 0.5em 0.4em;box-sizing: border-box;padding-bottom: 0.4em;background-color: white;}#sk-container-id-2 div.sk-label label {font-family: monospace;font-weight: bold;display: inline-block;line-height: 1.2em;}#sk-container-id-2 div.sk-label-container {text-align: center;}#sk-container-id-2 div.sk-container {/* jupyter's `normalize.less` sets `[hidden] { display: none; }` but bootstrap.min.css set `[hidden] { display: none !important; }` so we also need the `!important` here to be able to override the default hidden behavior on the sphinx rendered scikit-learn.org. See: https://github.com/scikit-learn/scikit-learn/issues/21755 */display: inline-block !important;position: relative;}#sk-container-id-2 div.sk-text-repr-fallback {display: none;}</style><div id=\"sk-container-id-2\" class=\"sk-top-container\"><div class=\"sk-text-repr-fallback\"><pre>RandomForestRegressor(max_depth=2, random_state=0)</pre><b>In a Jupyter environment, please rerun this cell to show the HTML representation or trust the notebook. <br />On GitHub, the HTML representation is unable to render, please try loading this page with nbviewer.org.</b></div><div class=\"sk-container\" hidden><div class=\"sk-item\"><div class=\"sk-estimator sk-toggleable\"><input class=\"sk-toggleable__control sk-hidden--visually\" id=\"sk-estimator-id-2\" type=\"checkbox\" checked><label for=\"sk-estimator-id-2\" class=\"sk-toggleable__label sk-toggleable__label-arrow\">RandomForestRegressor</label><div class=\"sk-toggleable__content\"><pre>RandomForestRegressor(max_depth=2, random_state=0)</pre></div></div></div></div></div>"
      ],
      "text/plain": [
       "RandomForestRegressor(max_depth=2, random_state=0)"
      ]
     },
     "execution_count": 49,
     "metadata": {},
     "output_type": "execute_result"
    }
   ],
   "source": [
    "#Random forest \n",
    "model_random_forest = RandomForestRegressor(max_depth=2, random_state=0)\n",
    "model_random_forest.fit(X_train, y_train)"
   ]
  },
  {
   "cell_type": "code",
   "execution_count": 50,
   "id": "e9e5e803",
   "metadata": {},
   "outputs": [],
   "source": [
    "# Making predictions\n",
    "pred_random_forest = model_random_forest.predict(X_test)"
   ]
  },
  {
   "cell_type": "code",
   "execution_count": 51,
   "id": "c9727d56",
   "metadata": {},
   "outputs": [
    {
     "name": "stdout",
     "output_type": "stream",
     "text": [
      "[ 5.98609907 10.99110244  5.98609907 ...  8.3287157  14.36753704\n",
      " 14.36753704]\n"
     ]
    }
   ],
   "source": [
    "print(model_random_forest.predict(X_test))"
   ]
  },
  {
   "cell_type": "code",
   "execution_count": 52,
   "id": "9ae46c4a",
   "metadata": {},
   "outputs": [
    {
     "name": "stdout",
     "output_type": "stream",
     "text": [
      "Mean Squared Error (Random Forest): 6.119195102514366\n",
      "Root Mean Squared Error (Random Forest): 2.4737006897590432\n"
     ]
    }
   ],
   "source": [
    "# Evaluating the model\n",
    "mse = mean_squared_error(y_test, pred_random_forest)\n",
    "rmse = np.sqrt(mse)\n",
    "\n",
    "print(f\"Mean Squared Error (Random Forest): {mse}\")\n",
    "print(f\"Root Mean Squared Error (Random Forest): {rmse}\")"
   ]
  },
  {
   "cell_type": "code",
   "execution_count": 53,
   "id": "19abcef1",
   "metadata": {},
   "outputs": [
    {
     "name": "stdout",
     "output_type": "stream",
     "text": [
      "             Feature  Importance\n",
      "8           distance         1.0\n",
      "0  passenger_count_1         0.0\n",
      "1  passenger_count_2         0.0\n",
      "2  passenger_count_3         0.0\n",
      "3  passenger_count_4         0.0\n",
      "4  passenger_count_5         0.0\n",
      "5              month         0.0\n",
      "6            weekday         0.0\n",
      "7               hour         0.0\n",
      "9           daylight         0.0\n"
     ]
    }
   ],
   "source": [
    "# Get feature importance scores\n",
    "feature_importance = model_random_forest.feature_importances_\n",
    "\n",
    "# Create a DataFrame for better visualization\n",
    "importance_df = pd.DataFrame({'Feature': X_train.columns, 'Importance': feature_importance})\n",
    "\n",
    "# Sort by importance (highest first)\n",
    "importance_df = importance_df.sort_values(by='Importance', ascending=False)\n",
    "\n",
    "# Print feature importance values\n",
    "print(importance_df)"
   ]
  },
  {
   "cell_type": "code",
   "execution_count": 54,
   "id": "60384604",
   "metadata": {},
   "outputs": [
    {
     "data": {
      "image/png": "[encoded data removed]",
      "text/plain": [
       "<Figure size 1000x500 with 1 Axes>"
      ]
     },
     "metadata": {},
     "output_type": "display_data"
    }
   ],
   "source": [
    "# Plot feature importance\n",
    "plt.figure(figsize=(10, 5))\n",
    "plt.barh(importance_df['Feature'], importance_df['Importance'], color='skyblue')\n",
    "plt.xlabel(\"Feature Importance Score\")\n",
    "plt.ylabel(\"Features\")\n",
    "plt.title(\"Random Forest Feature Importance\")\n",
    "plt.gca().invert_yaxis()  # To show the most important feature on top\n",
    "plt.show()"
   ]
  },
  {
   "cell_type": "markdown",
   "id": "9a9e4928",
   "metadata": {},
   "source": [
    "##### From the above diagram we get to know that distance place an important role for predicting fare amount."
   ]
  },
  {
   "cell_type": "markdown",
   "id": "24c78376",
   "metadata": {},
   "source": [
    "## ElasticNet"
   ]
  },
  {
   "cell_type": "code",
   "execution_count": 55,
   "id": "f1e17787",
   "metadata": {
    "scrolled": true
   },
   "outputs": [
    {
     "name": "stdout",
     "output_type": "stream",
     "text": [
      "[-0.  0.  0.  0. -0.  0.  0.  0.  0. -0.]\n",
      "8.567235024366402\n",
      "[8.56723502 8.56723502 8.56723502 ... 8.56723502 8.56723502 8.56723502]\n"
     ]
    }
   ],
   "source": [
    "model_elasticnet = ElasticNet(random_state=0)\n",
    "model_elasticnet.fit(X_train, y_train)\n",
    "print(model_elasticnet.coef_)\n",
    "print(model_elasticnet.intercept_)\n",
    "print(model_elasticnet.predict(X_test))"
   ]
  },
  {
   "cell_type": "code",
   "execution_count": 56,
   "id": "70b2cc88",
   "metadata": {},
   "outputs": [],
   "source": [
    "# Making predictions\n",
    "pred_elasticnet = model_elasticnet.predict(X_test)"
   ]
  },
  {
   "cell_type": "code",
   "execution_count": 57,
   "id": "4dd01440",
   "metadata": {
    "scrolled": true
   },
   "outputs": [
    {
     "name": "stdout",
     "output_type": "stream",
     "text": [
      "[8.56723502 8.56723502 8.56723502 ... 8.56723502 8.56723502 8.56723502]\n"
     ]
    }
   ],
   "source": [
    "pred_model_elasticnet = model_elasticnet.predict(X_test)\n",
    "print(pred_model_elasticnet)"
   ]
  },
  {
   "cell_type": "code",
   "execution_count": 58,
   "id": "e74ca63a",
   "metadata": {},
   "outputs": [
    {
     "name": "stdout",
     "output_type": "stream",
     "text": [
      "Mean Squared Error (ElasticNet): 14.194480420598675\n",
      "Root Mean Squared Error (ElasticNet): 3.7675562929568382\n"
     ]
    }
   ],
   "source": [
    "# Evaluating the model\n",
    "mse = mean_squared_error(y_test, pred_elasticnet)\n",
    "rmse = np.sqrt(mse)\n",
    "\n",
    "print(f\"Mean Squared Error (ElasticNet): {mse}\")\n",
    "print(f\"Root Mean Squared Error (ElasticNet): {rmse}\")"
   ]
  },
  {
   "cell_type": "markdown",
   "id": "4a43b3f0",
   "metadata": {},
   "source": [
    "## Ridge"
   ]
  },
  {
   "cell_type": "code",
   "execution_count": 59,
   "id": "d2bc2289",
   "metadata": {},
   "outputs": [
    {
     "data": {
      "text/html": [
       "<style>#sk-container-id-3 {color: black;}#sk-container-id-3 pre{padding: 0;}#sk-container-id-3 div.sk-toggleable {background-color: white;}#sk-container-id-3 label.sk-toggleable__label {cursor: pointer;display: block;width: 100%;margin-bottom: 0;padding: 0.3em;box-sizing: border-box;text-align: center;}#sk-container-id-3 label.sk-toggleable__label-arrow:before {content: \"▸\";float: left;margin-right: 0.25em;color: #696969;}#sk-container-id-3 label.sk-toggleable__label-arrow:hover:before {color: black;}#sk-container-id-3 div.sk-estimator:hover label.sk-toggleable__label-arrow:before {color: black;}#sk-container-id-3 div.sk-toggleable__content {max-height: 0;max-width: 0;overflow: hidden;text-align: left;background-color: #f0f8ff;}#sk-container-id-3 div.sk-toggleable__content pre {margin: 0.2em;color: black;border-radius: 0.25em;background-color: #f0f8ff;}#sk-container-id-3 input.sk-toggleable__control:checked~div.sk-toggleable__content {max-height: 200px;max-width: 100%;overflow: auto;}#sk-container-id-3 input.sk-toggleable__control:checked~label.sk-toggleable__label-arrow:before {content: \"▾\";}#sk-container-id-3 div.sk-estimator input.sk-toggleable__control:checked~label.sk-toggleable__label {background-color: #d4ebff;}#sk-container-id-3 div.sk-label input.sk-toggleable__control:checked~label.sk-toggleable__label {background-color: #d4ebff;}#sk-container-id-3 input.sk-hidden--visually {border: 0;clip: rect(1px 1px 1px 1px);clip: rect(1px, 1px, 1px, 1px);height: 1px;margin: -1px;overflow: hidden;padding: 0;position: absolute;width: 1px;}#sk-container-id-3 div.sk-estimator {font-family: monospace;background-color: #f0f8ff;border: 1px dotted black;border-radius: 0.25em;box-sizing: border-box;margin-bottom: 0.5em;}#sk-container-id-3 div.sk-estimator:hover {background-color: #d4ebff;}#sk-container-id-3 div.sk-parallel-item::after {content: \"\";width: 100%;border-bottom: 1px solid gray;flex-grow: 1;}#sk-container-id-3 div.sk-label:hover label.sk-toggleable__label {background-color: #d4ebff;}#sk-container-id-3 div.sk-serial::before {content: \"\";position: absolute;border-left: 1px solid gray;box-sizing: border-box;top: 0;bottom: 0;left: 50%;z-index: 0;}#sk-container-id-3 div.sk-serial {display: flex;flex-direction: column;align-items: center;background-color: white;padding-right: 0.2em;padding-left: 0.2em;position: relative;}#sk-container-id-3 div.sk-item {position: relative;z-index: 1;}#sk-container-id-3 div.sk-parallel {display: flex;align-items: stretch;justify-content: center;background-color: white;position: relative;}#sk-container-id-3 div.sk-item::before, #sk-container-id-3 div.sk-parallel-item::before {content: \"\";position: absolute;border-left: 1px solid gray;box-sizing: border-box;top: 0;bottom: 0;left: 50%;z-index: -1;}#sk-container-id-3 div.sk-parallel-item {display: flex;flex-direction: column;z-index: 1;position: relative;background-color: white;}#sk-container-id-3 div.sk-parallel-item:first-child::after {align-self: flex-end;width: 50%;}#sk-container-id-3 div.sk-parallel-item:last-child::after {align-self: flex-start;width: 50%;}#sk-container-id-3 div.sk-parallel-item:only-child::after {width: 0;}#sk-container-id-3 div.sk-dashed-wrapped {border: 1px dashed gray;margin: 0 0.4em 0.5em 0.4em;box-sizing: border-box;padding-bottom: 0.4em;background-color: white;}#sk-container-id-3 div.sk-label label {font-family: monospace;font-weight: bold;display: inline-block;line-height: 1.2em;}#sk-container-id-3 div.sk-label-container {text-align: center;}#sk-container-id-3 div.sk-container {/* jupyter's `normalize.less` sets `[hidden] { display: none; }` but bootstrap.min.css set `[hidden] { display: none !important; }` so we also need the `!important` here to be able to override the default hidden behavior on the sphinx rendered scikit-learn.org. See: https://github.com/scikit-learn/scikit-learn/issues/21755 */display: inline-block !important;position: relative;}#sk-container-id-3 div.sk-text-repr-fallback {display: none;}</style><div id=\"sk-container-id-3\" class=\"sk-top-container\"><div class=\"sk-text-repr-fallback\"><pre>Ridge()</pre><b>In a Jupyter environment, please rerun this cell to show the HTML representation or trust the notebook. <br />On GitHub, the HTML representation is unable to render, please try loading this page with nbviewer.org.</b></div><div class=\"sk-container\" hidden><div class=\"sk-item\"><div class=\"sk-estimator sk-toggleable\"><input class=\"sk-toggleable__control sk-hidden--visually\" id=\"sk-estimator-id-3\" type=\"checkbox\" checked><label for=\"sk-estimator-id-3\" class=\"sk-toggleable__label sk-toggleable__label-arrow\">Ridge</label><div class=\"sk-toggleable__content\"><pre>Ridge()</pre></div></div></div></div></div>"
      ],
      "text/plain": [
       "Ridge()"
      ]
     },
     "execution_count": 59,
     "metadata": {},
     "output_type": "execute_result"
    }
   ],
   "source": [
    "model_ridge = Ridge(alpha=1.0)\n",
    "model_ridge.fit(X_train, y_train)"
   ]
  },
  {
   "cell_type": "code",
   "execution_count": 60,
   "id": "b0c8edb7",
   "metadata": {},
   "outputs": [
    {
     "data": {
      "text/plain": [
       "array([ 5.21899215, 10.74008221,  6.24543927, ...,  9.0043783 ,\n",
       "       15.33537237, 14.43092689])"
      ]
     },
     "execution_count": 60,
     "metadata": {},
     "output_type": "execute_result"
    }
   ],
   "source": [
    "model_ridge.predict(X_test)"
   ]
  },
  {
   "cell_type": "code",
   "execution_count": 61,
   "id": "f66b2416",
   "metadata": {},
   "outputs": [
    {
     "name": "stdout",
     "output_type": "stream",
     "text": [
      "[ 5.21899215 10.74008221  6.24543927 ...  9.0043783  15.33537237\n",
      " 14.43092689]\n"
     ]
    }
   ],
   "source": [
    "pred_ridge = model_ridge.predict(X_test)\n",
    "print(pred_ridge)"
   ]
  },
  {
   "cell_type": "code",
   "execution_count": 62,
   "id": "6071c707",
   "metadata": {},
   "outputs": [
    {
     "name": "stdout",
     "output_type": "stream",
     "text": [
      "Mean Squared Error (Ridge): 6.003288155462376\n",
      "Root Mean Squared Error (Ridge): 2.4501608427738732\n"
     ]
    }
   ],
   "source": [
    "# Evaluating the model\n",
    "mse = mean_squared_error(y_test, pred_ridge)\n",
    "rmse = np.sqrt(mse)\n",
    "\n",
    "print(f\"Mean Squared Error (Ridge): {mse}\")\n",
    "print(f\"Root Mean Squared Error (Ridge): {rmse}\")"
   ]
  },
  {
   "cell_type": "markdown",
   "id": "3df127ca",
   "metadata": {},
   "source": [
    "### LASSO"
   ]
  },
  {
   "cell_type": "code",
   "execution_count": 63,
   "id": "be634278",
   "metadata": {},
   "outputs": [
    {
     "name": "stdout",
     "output_type": "stream",
     "text": [
      "Mean Squared Error: 14.180109696933693\n",
      "Coefficients: [-0.          0.          0.          0.         -0.          0.02470293\n",
      "  0.          0.00432197  0.         -0.        ]\n"
     ]
    }
   ],
   "source": [
    "lasso = Lasso(alpha=0.1)\n",
    "\n",
    "# Fit the model to the training data\n",
    "lasso.fit(X_train, y_train)\n",
    "\n",
    "# Make predictions on the test data\n",
    "y_pred = lasso.predict(X_test)\n",
    "\n",
    "# Calculate the Mean Squared Error (MSE)\n",
    "mse = mean_squared_error(y_test, y_pred)\n",
    "print(f\"Mean Squared Error: {mse}\")\n",
    "\n",
    "# Print the coefficients\n",
    "print(f\"Coefficients: {lasso.coef_}\")"
   ]
  },
  {
   "cell_type": "code",
   "execution_count": 64,
   "id": "85898517",
   "metadata": {},
   "outputs": [
    {
     "name": "stdout",
     "output_type": "stream",
     "text": [
      "Root Mean Squared Error (Lasso): 2.4501608427738732\n"
     ]
    }
   ],
   "source": [
    "print(f\"Root Mean Squared Error (Lasso): {rmse}\")"
   ]
  },
  {
   "cell_type": "markdown",
   "id": "72f02918",
   "metadata": {},
   "source": [
    "## BEST MODEL"
   ]
  },
  {
   "cell_type": "code",
   "execution_count": 65,
   "id": "005ae694",
   "metadata": {},
   "outputs": [
    {
     "data": {
      "text/plain": [
       "[('Linear Regression', 2.4415744884514647),\n",
       " ('Random Forest', 2.4737006897590432),\n",
       " ('ElasticNet', 3.7675562929568382),\n",
       " ('Ridge', 2.4501608427738732),\n",
       " ('Lasso', 2.4501608427738732)]"
      ]
     },
     "execution_count": 65,
     "metadata": {},
     "output_type": "execute_result"
    }
   ],
   "source": [
    "# List to store RMSE values for different models\n",
    "rmse_values = [\n",
    "    (\"Linear Regression\", np.sqrt(mean_squared_error(y_test, y_pred_linear_regression))),\n",
    "    (\"Random Forest\", np.sqrt(mean_squared_error(y_test, pred_random_forest))),\n",
    "    (\"ElasticNet\", np.sqrt(mean_squared_error(y_test, pred_elasticnet))),\n",
    "    (\"Ridge\", np.sqrt(mean_squared_error(y_test, pred_ridge))),\n",
    "    (\"Lasso\", np.sqrt(mean_squared_error(y_test, pred_ridge))),\n",
    "]\n",
    "rmse_values"
   ]
  },
  {
   "cell_type": "code",
   "execution_count": 66,
   "id": "8de581f2",
   "metadata": {},
   "outputs": [
    {
     "name": "stdout",
     "output_type": "stream",
     "text": [
      "\n",
      "Best Model: Linear Regression with RMSE: 2.4415744884514647\n"
     ]
    }
   ],
   "source": [
    "# Find the model with the lowest RMSE\n",
    "best_model = min(rmse_values, key=lambda x: x[1])\n",
    "print(f\"\\nBest Model: {best_model[0]} with RMSE: {best_model[1]}\")"
   ]
  },
  {
   "cell_type": "markdown",
   "id": "9f176d6b",
   "metadata": {},
   "source": [
    "## Model evaluation and selection:"
   ]
  },
  {
   "cell_type": "code",
   "execution_count": 67,
   "id": "383d4fde",
   "metadata": {},
   "outputs": [
    {
     "data": {
      "image/png": "[encoded data removed]",
      "text/plain": [
       "<Figure size 1000x600 with 1 Axes>"
      ]
     },
     "metadata": {},
     "output_type": "display_data"
    }
   ],
   "source": [
    "# RMSE values for different models\n",
    "rmse_values = [\n",
    "    (\"Linear Regression\", 2.4415744884514647),\n",
    "    (\"Random Forest\",  2.4737006897590432),\n",
    "    (\"ElasticNet\", 3.7675562929568382),\n",
    "    (\"Ridge\", 2.4501608427738732),  # Added comma here\n",
    "    (\"Lasso\", 2.4501608427738732)\n",
    "]  # Replace with actual RMSE values\n",
    "\n",
    "# Sort models by RMSE (ascending order)\n",
    "sorted_rmse_values = sorted(rmse_values, key=lambda x: x[1])\n",
    "\n",
    "# Extract sorted model names and RMSE values\n",
    "models = [model for model, _ in sorted_rmse_values]\n",
    "rmse_scores = [score for _, score in sorted_rmse_values]\n",
    "\n",
    "# Create the bar graph\n",
    "plt.figure(figsize=(10, 6))\n",
    "plt.barh(models, rmse_scores, color='skyblue')\n",
    "\n",
    "# Add labels and title\n",
    "plt.xlabel(\"RMSE\")\n",
    "plt.ylabel(\"Models\")  # Added y-axis label for clarity\n",
    "plt.title(\"RMSE Comparison of Models\")\n",
    "plt.grid(True, axis='x')\n",
    "\n",
    "# Display the plot\n",
    "plt.show()"
   ]
  },
  {
   "cell_type": "markdown",
   "id": "3fd942e7",
   "metadata": {},
   "source": [
    "<div class=\"alert alert-block alert-danger\">\n",
    "RMSE Comparison of Models for Predicting User Uber Fare Prices\n",
    "Model Performance (Lower RMSE = Better Performance):\n",
    "\n",
    "__Linear Regression__: RMSE = 2.41  Performs better than ElasticNet.\n",
    "    \n",
    "__Random Forest__: RMSE = 2.47  Slightly higher RMSE than Linear Regression but still competitive.\n",
    "    \n",
    "__ElasticNet__: RMSE = 3.76  Highest RMSE, indicating poor performance.\n",
    "    \n",
    "__Ridge Regression__: RMSE = 2.45  Similar performance to Linear Regression and Lasso.\n",
    "    \n",
    "__Lasso Regression__: RMSE = 2.45  Performs the same as Ridge Regression, suggesting little benefit from L1 regularization.\n",
    "    \n",
    "__Key Takeaways__:\n",
    "\n",
    "ElasticNet performs the worst, struggling to capture the data patterns effectively.\n",
    "Linear Regression, Ridge, and Lasso perform similarly, indicating that regularization has minimal impact.\n",
    "Random Forest, despite being a non-linear model, does not significantly outperform linear models in this case, suggesting the dataset may not have strong non-linear relationships.\n",
    "    \n",
    "</div>"
   ]
  },
  {
   "cell_type": "markdown",
   "id": "2a0fb63c",
   "metadata": {},
   "source": [
    "### CONCLUSION:"
   ]
  },
  {
   "cell_type": "markdown",
   "id": "fcd33377",
   "metadata": {},
   "source": [
    "<div class=\"alert alert-block alert-success\">\n",
    "    \n",
    "This project successfully analyzed the key factors influencing Uber price prediction, with a particular focus on the role of distance. The results confirmed that distance is the most significant determinant of fare prices, with longer trips leading to higher fares. Additionally, other variables, such as the number of passengers, time of day, day of the week, and month, also influenced pricing. Peak hours and nighttime fares were generally higher due to increased demand and surge pricing, while weekdays and specific months showed variations in fare trends.\n",
    "\n",
    "For future work, incorporating additional factors such as real-time traffic conditions, weather, holiday effects, and special events could further enhance the accuracy of fare prediction models. Exploring machine learning techniques such as deep learning or ensemble models may also improve predictive performance. Moreover, integrating external data sources like fuel prices and ride demand trends could provide a more comprehensive understanding of Uber's dynamic pricing mechanisms.\n",
    "    \n",
    " </div> "
   ]
  },
  {
   "cell_type": "code",
   "execution_count": null,
   "id": "323a6b2f",
   "metadata": {},
   "outputs": [],
   "source": []
  }
 ],
 "metadata": {
  "kernelspec": {
   "display_name": "Python 3 (ipykernel)",
   "language": "python",
   "name": "python3"
  },
  "language_info": {
   "codemirror_mode": {
    "name": "ipython",
    "version": 3
   },
   "file_extension": ".py",
   "mimetype": "text/x-python",
   "name": "python",
   "nbconvert_exporter": "python",
   "pygments_lexer": "ipython3",
   "version": "3.11.4"
  }
 },
 "nbformat": 4,
 "nbformat_minor": 5
}
